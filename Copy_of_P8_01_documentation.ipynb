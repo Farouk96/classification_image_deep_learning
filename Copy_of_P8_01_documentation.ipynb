{
  "cells": [
    {
      "cell_type": "markdown",
      "metadata": {
        "id": "view-in-github",
        "colab_type": "text"
      },
      "source": [
        "<a href=\"https://colab.research.google.com/github/Farouk96/classification_image_deep_learning/blob/main/Copy_of_P8_01_documentation.ipynb\" target=\"_parent\"><img src=\"https://colab.research.google.com/assets/colab-badge.svg\" alt=\"Open In Colab\"/></a>"
      ]
    },
    {
      "cell_type": "code",
      "execution_count": 4,
      "metadata": {
        "id": "jDJ2-KqNxpHV"
      },
      "outputs": [],
      "source": [
        "#IMPORT REQUIRED LIBRARIEs\n",
        "from time import time\n",
        "import numpy as np\n",
        "import pandas as pd\n",
        "import os\n",
        "from re import search\n",
        "import shutil\n",
        "from PIL import Image\n",
        "import matplotlib.pyplot as plt\n",
        "import seaborn as sns\n",
        "from tqdm import tqdm\n",
        "import cv2\n",
        "\n",
        "import tensorflow as tf\n",
        "from tensorflow import keras\n",
        "from tensorflow.keras.models import Sequential\n",
        "from tensorflow.keras.callbacks import ModelCheckpoint,EarlyStopping\n",
        "from tensorflow.keras.preprocessing.image import ImageDataGenerator\n",
        "from tensorflow.keras.layers import Dense,Activation,Flatten, Conv2D, MaxPooling2D,Dropout"
      ]
    },
    {
      "cell_type": "code",
      "source": [
        "!pip install tensorflow_addons\n",
        "import tensorflow_addons as tfa"
      ],
      "metadata": {
        "colab": {
          "base_uri": "https://localhost:8080/"
        },
        "id": "1yRMaKSrsHGg",
        "outputId": "6a89b94e-4f2a-4d55-a3a4-450802ee934f"
      },
      "execution_count": 5,
      "outputs": [
        {
          "output_type": "stream",
          "name": "stdout",
          "text": [
            "Requirement already satisfied: tensorflow_addons in /usr/local/lib/python3.7/dist-packages (0.15.0)\n",
            "Requirement already satisfied: typeguard>=2.7 in /usr/local/lib/python3.7/dist-packages (from tensorflow_addons) (2.7.1)\n"
          ]
        }
      ]
    },
    {
      "cell_type": "markdown",
      "source": [
        "#Data preparation"
      ],
      "metadata": {
        "id": "026VmWhf0IKr"
      }
    },
    {
      "cell_type": "code",
      "execution_count": 6,
      "metadata": {
        "colab": {
          "base_uri": "https://localhost:8080/",
          "height": 424
        },
        "id": "_LMOFDyK716h",
        "outputId": "33332b9a-7413-4a5a-a4db-f1cdde9de984"
      },
      "outputs": [
        {
          "output_type": "execute_result",
          "data": {
            "text/html": [
              "\n",
              "  <div id=\"df-8aa00188-7d3e-4a5d-9ffd-be0d84be4927\">\n",
              "    <div class=\"colab-df-container\">\n",
              "      <div>\n",
              "<style scoped>\n",
              "    .dataframe tbody tr th:only-of-type {\n",
              "        vertical-align: middle;\n",
              "    }\n",
              "\n",
              "    .dataframe tbody tr th {\n",
              "        vertical-align: top;\n",
              "    }\n",
              "\n",
              "    .dataframe thead th {\n",
              "        text-align: right;\n",
              "    }\n",
              "</style>\n",
              "<table border=\"1\" class=\"dataframe\">\n",
              "  <thead>\n",
              "    <tr style=\"text-align: right;\">\n",
              "      <th></th>\n",
              "      <th>image</th>\n",
              "      <th>labels</th>\n",
              "    </tr>\n",
              "  </thead>\n",
              "  <tbody>\n",
              "    <tr>\n",
              "      <th>0</th>\n",
              "      <td>800113bb65efe69e.jpg</td>\n",
              "      <td>healthy</td>\n",
              "    </tr>\n",
              "    <tr>\n",
              "      <th>1</th>\n",
              "      <td>8002cb321f8bfcdf.jpg</td>\n",
              "      <td>scab frog_eye_leaf_spot complex</td>\n",
              "    </tr>\n",
              "    <tr>\n",
              "      <th>2</th>\n",
              "      <td>80070f7fb5e2ccaa.jpg</td>\n",
              "      <td>scab</td>\n",
              "    </tr>\n",
              "    <tr>\n",
              "      <th>3</th>\n",
              "      <td>80077517781fb94f.jpg</td>\n",
              "      <td>scab</td>\n",
              "    </tr>\n",
              "    <tr>\n",
              "      <th>4</th>\n",
              "      <td>800cbf0ff87721f8.jpg</td>\n",
              "      <td>complex</td>\n",
              "    </tr>\n",
              "    <tr>\n",
              "      <th>...</th>\n",
              "      <td>...</td>\n",
              "      <td>...</td>\n",
              "    </tr>\n",
              "    <tr>\n",
              "      <th>18627</th>\n",
              "      <td>fffb900a92289a33.jpg</td>\n",
              "      <td>healthy</td>\n",
              "    </tr>\n",
              "    <tr>\n",
              "      <th>18628</th>\n",
              "      <td>fffc488fa4c0e80c.jpg</td>\n",
              "      <td>scab</td>\n",
              "    </tr>\n",
              "    <tr>\n",
              "      <th>18629</th>\n",
              "      <td>fffc94e092a59086.jpg</td>\n",
              "      <td>rust</td>\n",
              "    </tr>\n",
              "    <tr>\n",
              "      <th>18630</th>\n",
              "      <td>fffe105cf6808292.jpg</td>\n",
              "      <td>scab frog_eye_leaf_spot</td>\n",
              "    </tr>\n",
              "    <tr>\n",
              "      <th>18631</th>\n",
              "      <td>fffe472a0001bd25.jpg</td>\n",
              "      <td>healthy</td>\n",
              "    </tr>\n",
              "  </tbody>\n",
              "</table>\n",
              "<p>18632 rows × 2 columns</p>\n",
              "</div>\n",
              "      <button class=\"colab-df-convert\" onclick=\"convertToInteractive('df-8aa00188-7d3e-4a5d-9ffd-be0d84be4927')\"\n",
              "              title=\"Convert this dataframe to an interactive table.\"\n",
              "              style=\"display:none;\">\n",
              "        \n",
              "  <svg xmlns=\"http://www.w3.org/2000/svg\" height=\"24px\"viewBox=\"0 0 24 24\"\n",
              "       width=\"24px\">\n",
              "    <path d=\"M0 0h24v24H0V0z\" fill=\"none\"/>\n",
              "    <path d=\"M18.56 5.44l.94 2.06.94-2.06 2.06-.94-2.06-.94-.94-2.06-.94 2.06-2.06.94zm-11 1L8.5 8.5l.94-2.06 2.06-.94-2.06-.94L8.5 2.5l-.94 2.06-2.06.94zm10 10l.94 2.06.94-2.06 2.06-.94-2.06-.94-.94-2.06-.94 2.06-2.06.94z\"/><path d=\"M17.41 7.96l-1.37-1.37c-.4-.4-.92-.59-1.43-.59-.52 0-1.04.2-1.43.59L10.3 9.45l-7.72 7.72c-.78.78-.78 2.05 0 2.83L4 21.41c.39.39.9.59 1.41.59.51 0 1.02-.2 1.41-.59l7.78-7.78 2.81-2.81c.8-.78.8-2.07 0-2.86zM5.41 20L4 18.59l7.72-7.72 1.47 1.35L5.41 20z\"/>\n",
              "  </svg>\n",
              "      </button>\n",
              "      \n",
              "  <style>\n",
              "    .colab-df-container {\n",
              "      display:flex;\n",
              "      flex-wrap:wrap;\n",
              "      gap: 12px;\n",
              "    }\n",
              "\n",
              "    .colab-df-convert {\n",
              "      background-color: #E8F0FE;\n",
              "      border: none;\n",
              "      border-radius: 50%;\n",
              "      cursor: pointer;\n",
              "      display: none;\n",
              "      fill: #1967D2;\n",
              "      height: 32px;\n",
              "      padding: 0 0 0 0;\n",
              "      width: 32px;\n",
              "    }\n",
              "\n",
              "    .colab-df-convert:hover {\n",
              "      background-color: #E2EBFA;\n",
              "      box-shadow: 0px 1px 2px rgba(60, 64, 67, 0.3), 0px 1px 3px 1px rgba(60, 64, 67, 0.15);\n",
              "      fill: #174EA6;\n",
              "    }\n",
              "\n",
              "    [theme=dark] .colab-df-convert {\n",
              "      background-color: #3B4455;\n",
              "      fill: #D2E3FC;\n",
              "    }\n",
              "\n",
              "    [theme=dark] .colab-df-convert:hover {\n",
              "      background-color: #434B5C;\n",
              "      box-shadow: 0px 1px 3px 1px rgba(0, 0, 0, 0.15);\n",
              "      filter: drop-shadow(0px 1px 2px rgba(0, 0, 0, 0.3));\n",
              "      fill: #FFFFFF;\n",
              "    }\n",
              "  </style>\n",
              "\n",
              "      <script>\n",
              "        const buttonEl =\n",
              "          document.querySelector('#df-8aa00188-7d3e-4a5d-9ffd-be0d84be4927 button.colab-df-convert');\n",
              "        buttonEl.style.display =\n",
              "          google.colab.kernel.accessAllowed ? 'block' : 'none';\n",
              "\n",
              "        async function convertToInteractive(key) {\n",
              "          const element = document.querySelector('#df-8aa00188-7d3e-4a5d-9ffd-be0d84be4927');\n",
              "          const dataTable =\n",
              "            await google.colab.kernel.invokeFunction('convertToInteractive',\n",
              "                                                     [key], {});\n",
              "          if (!dataTable) return;\n",
              "\n",
              "          const docLinkHtml = 'Like what you see? Visit the ' +\n",
              "            '<a target=\"_blank\" href=https://colab.research.google.com/notebooks/data_table.ipynb>data table notebook</a>'\n",
              "            + ' to learn more about interactive tables.';\n",
              "          element.innerHTML = '';\n",
              "          dataTable['output_type'] = 'display_data';\n",
              "          await google.colab.output.renderOutput(dataTable, element);\n",
              "          const docLink = document.createElement('div');\n",
              "          docLink.innerHTML = docLinkHtml;\n",
              "          element.appendChild(docLink);\n",
              "        }\n",
              "      </script>\n",
              "    </div>\n",
              "  </div>\n",
              "  "
            ],
            "text/plain": [
              "                      image                           labels\n",
              "0      800113bb65efe69e.jpg                          healthy\n",
              "1      8002cb321f8bfcdf.jpg  scab frog_eye_leaf_spot complex\n",
              "2      80070f7fb5e2ccaa.jpg                             scab\n",
              "3      80077517781fb94f.jpg                             scab\n",
              "4      800cbf0ff87721f8.jpg                          complex\n",
              "...                     ...                              ...\n",
              "18627  fffb900a92289a33.jpg                          healthy\n",
              "18628  fffc488fa4c0e80c.jpg                             scab\n",
              "18629  fffc94e092a59086.jpg                             rust\n",
              "18630  fffe105cf6808292.jpg          scab frog_eye_leaf_spot\n",
              "18631  fffe472a0001bd25.jpg                          healthy\n",
              "\n",
              "[18632 rows x 2 columns]"
            ]
          },
          "metadata": {},
          "execution_count": 6
        }
      ],
      "source": [
        "#IMAGE PATH & DATAFRAME:\n",
        "TRAIN_PATH = \"/content/drive/MyDrive/ P8_kaggle_competition/train_images\"\n",
        "train_df = pd.read_csv(\"/content/drive/MyDrive/ P8_kaggle_competition/train.csv\",sep=',')\n",
        "train_df"
      ]
    },
    {
      "cell_type": "code",
      "execution_count": 7,
      "metadata": {
        "colab": {
          "base_uri": "https://localhost:8080/"
        },
        "id": "tRRbjCyj6Ooj",
        "outputId": "3b00a759-9eb5-4e1c-8599-c65bc09c1661"
      },
      "outputs": [
        {
          "output_type": "execute_result",
          "data": {
            "text/plain": [
              "['c04632b533bba33d.jpg',\n",
              " 'c03e65db32f086cd.jpg',\n",
              " 'c0377614f870c35f.jpg',\n",
              " 'c05a3720fd610edf.jpg',\n",
              " 'c0702f17c4f8fb45.jpg',\n",
              " 'c06d02d4ca4af5df.jpg',\n",
              " 'c06c7a60b360b77e.jpg',\n",
              " 'c08552de599f1c2f.jpg',\n",
              " 'c08364e6716477fa.jpg',\n",
              " 'c0816a962dceb76b.jpg',\n",
              " 'c0853d6535f2d43e.jpg',\n",
              " 'c08eb5c5b7953c98.jpg',\n",
              " 'c0883b8e6e2ddf29.jpg',\n",
              " 'c08e2b86b5bf70a3.jpg',\n",
              " 'c09798cb9eb16639.jpg',\n",
              " 'c09f21a433bf3758.jpg',\n",
              " 'c09e35c7d027fa16.jpg',\n",
              " 'c09927d183363cdf.jpg',\n",
              " 'c0983fc02e27facb.jpg',\n",
              " 'c09a3f8d684f1579.jpg',\n",
              " 'c0a42dfd195dd331.jpg',\n",
              " 'c0c063eb2afc3ab5.jpg',\n",
              " 'c0c2202b0f7f7fe4.jpg',\n",
              " 'c0bc431f5396b0f5.jpg',\n",
              " 'c0bd68dad79507a2.jpg',\n",
              " 'c0c73614ce4ee4ed.jpg',\n",
              " 'c0cb3f1b38f8e0d4.jpg',\n",
              " 'c0c8679f29e519bc.jpg',\n",
              " 'c0cf8b9899d591b3.jpg',\n",
              " 'c0c66a37fdf58061.jpg',\n",
              " 'c0df29ce91d73950.jpg',\n",
              " 'c0e027301fd757ad.jpg',\n",
              " 'c0d91da6b3b891cd.jpg',\n",
              " 'c0df0336b4707e65.jpg',\n",
              " 'c0e00e1cff8f429f.jpg',\n",
              " 'c0e6e21b32cde8f4.jpg',\n",
              " 'c0e1616f4d439b9b.jpg',\n",
              " 'c0e18cf07d1b2de9.jpg',\n",
              " 'c0f1155cba5c13fc.jpg',\n",
              " 'c0ef90ea018ffb1c.jpg',\n",
              " 'c0f82f0ec6e6ba8a.jpg',\n",
              " 'c0feb19f5595d204.jpg',\n",
              " 'c0f896d7dbad05a0.jpg',\n",
              " 'c0fc90877d04fc5e.jpg',\n",
              " 'c13977cb1d2708e3.jpg',\n",
              " 'c112607fde049f6d.jpg',\n",
              " 'c1313b58da19bde1.jpg',\n",
              " 'c11d1e8fdc1dd09c.jpg',\n",
              " 'c13330f952396b3d.jpg',\n",
              " 'c13a1f375c3e4456.jpg',\n",
              " 'c13f6903bef06f20.jpg',\n",
              " 'c142172a7f9bd42b.jpg',\n",
              " 'c14ac7db692a26d9.jpg',\n",
              " 'c13c536a5de1a0db.jpg',\n",
              " 'c15d3d3ae123c547.jpg',\n",
              " 'c1870ebc7db0303f.jpg',\n",
              " 'c1642e733803bf97.jpg',\n",
              " 'c16f9bd00b960bf2.jpg',\n",
              " 'c1976d8b1f713930.jpg',\n",
              " 'c19ae1ce9f2a3562.jpg',\n",
              " 'c19327bf409a1f0f.jpg',\n",
              " 'c19a7aca95e54c35.jpg',\n",
              " 'c1b0c5d526cc6aed.jpg',\n",
              " 'c1b87f90f03a3ab8.jpg',\n",
              " 'c1b70bf0ff01806f.jpg',\n",
              " 'c1b3257c5ab6b096.jpg',\n",
              " 'c1c34ac9b9557393.jpg',\n",
              " 'c1d58317fa8ccd0d.jpg',\n",
              " 'c1cd9ac4a877a2dc.jpg',\n",
              " 'c1cc8f836c9239eb.jpg',\n",
              " 'c1d67e6365393492.jpg',\n",
              " 'c1dc61d4815b5c7b.jpg',\n",
              " 'c1e068e15f4fb18d.jpg',\n",
              " 'c1e23fd761222b39.jpg',\n",
              " 'c1deb0915a61be5a.jpg',\n",
              " 'c1e096ac9ab361db.jpg',\n",
              " 'c1e065c95bb43e6c.jpg',\n",
              " 'c1df1a3d30bc9398.jpg',\n",
              " 'c1e792921b613fa5.jpg',\n",
              " 'c1f374d78f40c827.jpg',\n",
              " 'c1e7799ce06e0e1c.jpg',\n",
              " 'c1fc2e657b4a05b4.jpg',\n",
              " 'c20039be91fa94fb.jpg',\n",
              " 'c20f1f383de0f187.jpg',\n",
              " 'c1fa2e8ab2d53a0e.jpg',\n",
              " 'c238eb9aab388f68.jpg',\n",
              " 'c2249ada9d6cc59e.jpg',\n",
              " 'c2403f37309979fc.jpg',\n",
              " 'c23066d02fc17deb.jpg',\n",
              " 'c21f396847e31ba3.jpg',\n",
              " 'c225cf8aba4eb952.jpg',\n",
              " 'c278179dc3964b96.jpg',\n",
              " 'c2651a17c319f759.jpg',\n",
              " 'c252b1ce3353ad4d.jpg',\n",
              " 'c26d93f4c2c3aaca.jpg',\n",
              " 'c2883f3c52b2e29f.jpg',\n",
              " 'c2933ec14cd7e01f.jpg',\n",
              " 'c292bc3e8758ee61.jpg',\n",
              " 'c285d82f2ab65ada.jpg',\n",
              " 'c28b3f2520f79f03.jpg',\n",
              " 'c2906eb694eb39cc.jpg',\n",
              " 'c2af619cb9093acd.jpg',\n",
              " 'c299ba99f17f1424.jpg',\n",
              " 'c2b83af1d8b5e834.jpg',\n",
              " 'c2cdd3847bb2c136.jpg',\n",
              " 'c2e7974c98925ed8.jpg',\n",
              " 'c2dc312fed08623f.jpg',\n",
              " 'c2db68bcd7969a80.jpg',\n",
              " 'c2ed348632ab759c.jpg',\n",
              " 'c30c3f1f3cc07875.jpg',\n",
              " 'c3436f773d06228e.jpg',\n",
              " 'c341e1c71db9f071.jpg',\n",
              " 'c372309fce61de30.jpg',\n",
              " 'c3684a87b81f2dda.jpg',\n",
              " 'c3897fdde0e8e0c0.jpg',\n",
              " 'c388333f050f1cfb.jpg',\n",
              " 'c386c3c7eba90d43.jpg',\n",
              " 'c39bacec48e8b8d4.jpg',\n",
              " 'c3a3bcc20364e6cf.jpg',\n",
              " 'c3a9349f134c8fc9.jpg',\n",
              " 'c39d39fb81c3c2c2.jpg',\n",
              " 'c3a8ce9bb12d2785.jpg',\n",
              " 'c3b261d742bba0d5.jpg',\n",
              " 'c3c2adc330d753d1.jpg',\n",
              " 'c3bfc018c2adf06e.jpg',\n",
              " 'c3c8e29ccce80f2f.jpg',\n",
              " 'c3bb09357832f0f2.jpg',\n",
              " 'c3ef2b93558520b9.jpg',\n",
              " 'c3eac5fdc8343a11.jpg',\n",
              " 'c4163a4b696b963b.jpg',\n",
              " 'c40a6334177eafc3.jpg',\n",
              " 'c4310f623b1cbcaf.jpg',\n",
              " 'c44bdb39929363ac.jpg',\n",
              " 'c4254e93960fda9e.jpg',\n",
              " 'c4212c57fe4273ec.jpg',\n",
              " 'c43c6851c354bfd6.jpg',\n",
              " 'c420e7723cb359d5.jpg',\n",
              " 'c47bc0a107973f5c.jpg',\n",
              " 'c4507b2a790f959d.jpg',\n",
              " 'c49ef0625f1eaca8.jpg',\n",
              " 'c4aaa98c6b8df315.jpg',\n",
              " 'c493255adbb658c3.jpg',\n",
              " 'c4b3978a58cdd9c8.jpg',\n",
              " 'c4bf629ca7a8817a.jpg',\n",
              " 'c4b02738acfff0e0.jpg',\n",
              " 'c4ab3f9dbe205512.jpg',\n",
              " 'c4b33c8070dee8db.jpg',\n",
              " 'c4c6682fbf124da9.jpg',\n",
              " 'c4d0d0f9711f6137.jpg',\n",
              " 'c4e1376523b66971.jpg',\n",
              " 'c4ea4ccfa3d1113b.jpg',\n",
              " 'c512bce3d458bf50.jpg',\n",
              " 'c54a8b7cd5754760.jpg',\n",
              " 'c52d4456a52a7b73.jpg',\n",
              " 'c53c9f62380fe0cd.jpg',\n",
              " 'c537c2cd2d92b549.jpg',\n",
              " 'c5433ed6deda404a.jpg',\n",
              " 'c54b2fb53ed6300a.jpg',\n",
              " 'c58039da54edd6a5.jpg',\n",
              " 'c5625237abe8dc58.jpg',\n",
              " 'c56943d8a983fa96.jpg',\n",
              " 'c5805a8b4574bbaf.jpg',\n",
              " 'c5816bdaa2765cd1.jpg',\n",
              " 'c56170c02bdf57b1.jpg',\n",
              " 'c5691ba1c2975b3a.jpg',\n",
              " 'c59c22caba4e59f4.jpg',\n",
              " 'c58717e8256d2a76.jpg',\n",
              " 'c595cf8172676562.jpg',\n",
              " 'c5b536160e6f20ed.jpg',\n",
              " 'c5bc36714749c8cd.jpg',\n",
              " 'c5bd75916890af98.jpg',\n",
              " 'c5cfa16193c3993c.jpg',\n",
              " 'c5c29587a48e0f7e.jpg',\n",
              " 'c5c162b2d3759713.jpg',\n",
              " 'c5c012c6dbedd0ec.jpg',\n",
              " 'c5c67a169719696c.jpg',\n",
              " 'c5df20c07bc15bc9.jpg',\n",
              " 'c5e1af4bc07439d4.jpg',\n",
              " 'c5e23f973c3530b0.jpg',\n",
              " 'c5e02495af73b4d1.jpg',\n",
              " 'c5fa3e29f0f0e105.jpg',\n",
              " 'c6211e96687bf662.jpg',\n",
              " 'c5fd3e99703ad110.jpg',\n",
              " 'c5f93d941a0f1e13.jpg',\n",
              " 'c66ce7a4c03d3356.jpg',\n",
              " 'c64730bc11fc31de.jpg',\n",
              " 'c689807c959ef1b6.jpg',\n",
              " 'c6b214c2ac455f3f.jpg',\n",
              " 'c6a634cbb08a6dcb.jpg',\n",
              " 'c69394a0fe75aa54.jpg',\n",
              " 'c6d343ab8119ab75.jpg',\n",
              " 'c6bc9352f4466627.jpg',\n",
              " 'c6d037f5c4c5650b.jpg',\n",
              " 'c7023cb0f07ad3f1.jpg',\n",
              " 'c70083f0cdddecd8.jpg',\n",
              " 'c738d13e7146798c.jpg',\n",
              " 'c7173c3e39703970.jpg',\n",
              " 'c73f27908e418ce7.jpg',\n",
              " 'c73662f7024ef388.jpg',\n",
              " 'c72767948bd31859.jpg',\n",
              " 'c738d13e73467988.jpg',\n",
              " 'c73c37991ae35c05.jpg',\n",
              " 'c7588750b57eb02e.jpg',\n",
              " 'c76328952d9e7d90.jpg',\n",
              " 'c7616f317c793c20.jpg',\n",
              " 'c7703ddc214d0bce.jpg',\n",
              " 'c75a25d0cbcde630.jpg',\n",
              " 'c78e37e386c98989.jpg',\n",
              " 'c788966fa82589f6.jpg',\n",
              " 'c78d747c60323e63.jpg',\n",
              " 'c79230f2a207ff86.jpg',\n",
              " 'c78903f11fe905f2.jpg',\n",
              " 'c793b59c90e64e0e.jpg',\n",
              " 'c7c3683c3c4e9955.jpg',\n",
              " 'c7cb27d582c10d9e.jpg',\n",
              " 'c7c7272d70983a4e.jpg',\n",
              " 'c7cfa39fc8081a59.jpg',\n",
              " 'c7e003decc013f5e.jpg',\n",
              " 'c7d5199a657b900b.jpg',\n",
              " 'c82321c5cddd1d7c.jpg',\n",
              " 'c80ac0fe2f74bdb0.jpg',\n",
              " 'c82125afbd61e3e8.jpg',\n",
              " 'c8619db972479936.jpg',\n",
              " 'c83b2dd123f827a9.jpg',\n",
              " 'c8297ba99f098bcc.jpg',\n",
              " 'c88ef30df4f087c4.jpg',\n",
              " 'c88ca09ea69597d7.jpg',\n",
              " 'c89a36342ee0ff98.jpg',\n",
              " 'c89a4c8d729b945f.jpg',\n",
              " 'c8a63eeb680f215e.jpg',\n",
              " 'c8c5d76fc4e81742.jpg',\n",
              " 'c8b228f6ee131ecc.jpg',\n",
              " 'c8db70c393366ee0.jpg',\n",
              " 'c8e271b852b88fae.jpg',\n",
              " 'c8ce8d2f1de23dc0.jpg',\n",
              " 'c8d544ddaa682bd5.jpg',\n",
              " 'c8e822eb7e127536.jpg',\n",
              " 'c8fc3a6a45273754.jpg',\n",
              " 'c90a70a7cb5c9d4e.jpg',\n",
              " 'c8f207c8931e21ff.jpg',\n",
              " 'c8e63ea96cc7218e.jpg',\n",
              " 'c8f34a9e5a6835cc.jpg',\n",
              " 'c8e63fc07b497158.jpg',\n",
              " 'c8fa8e8b9ab0b685.jpg',\n",
              " 'c9524b3cbf99ca0c.jpg',\n",
              " 'c92ed177c236c4d1.jpg',\n",
              " 'c93b29566a5394d6.jpg',\n",
              " 'c93d81b5178117db.jpg',\n",
              " 'c932366bee62341d.jpg',\n",
              " 'c938d578cbc119cd.jpg',\n",
              " 'c96cc5d28d346c9b.jpg',\n",
              " 'c9938c1d3ae6b3a1.jpg',\n",
              " 'c9813f82f2df1c89.jpg',\n",
              " 'c960793f80b64ce7.jpg',\n",
              " 'c97935761e150397.jpg',\n",
              " 'c9853ff5d0c147a4.jpg',\n",
              " 'c99b5c46303633db.jpg',\n",
              " 'c9ab7990a048fe6e.jpg',\n",
              " 'c9a5345ec78b4ac5.jpg',\n",
              " 'c9a4ab78d6fc8429.jpg',\n",
              " 'c9981dd1c0af7b4c.jpg',\n",
              " 'c99d01f11f0636bb.jpg',\n",
              " 'c9b3f2434c8c3e3c.jpg',\n",
              " 'c9d232342de1eacd.jpg',\n",
              " 'c9bd71c3229e271c.jpg',\n",
              " 'c9ef7e5082bc6606.jpg',\n",
              " 'c9f524f0fec141c6.jpg',\n",
              " 'c9d421cc72ed77a0.jpg',\n",
              " 'c9e1a9f5d5d41702.jpg',\n",
              " 'ca026d3e2de66770.jpg',\n",
              " 'ca00eb62b81fd8af.jpg',\n",
              " 'ca1ca74f8917e07c.jpg',\n",
              " 'ca11aa188e47e777.jpg',\n",
              " 'ca2f2637d00dc576.jpg',\n",
              " 'ca62f80f2f42dcf0.jpg',\n",
              " 'ca6e6a2510de6b59.jpg',\n",
              " 'ca7d3cd0951eca16.jpg',\n",
              " 'ca6a50c5d2adb8ae.jpg',\n",
              " 'ca829db8885575db.jpg',\n",
              " 'ca9e36d874eb1245.jpg',\n",
              " 'ca8b186de9ad91b8.jpg',\n",
              " 'ca86cedcce38847a.jpg',\n",
              " 'caa63498933bee85.jpg',\n",
              " 'caad24d0fcf2ac91.jpg',\n",
              " 'cab5cab54598b2d4.jpg',\n",
              " 'cabf260d909690fe.jpg',\n",
              " 'cad12b68f5a70cc6.jpg',\n",
              " 'cad4d0dada8aca2b.jpg',\n",
              " 'cad115983a3a7567.jpg',\n",
              " 'cad871996e4b78a2.jpg',\n",
              " 'cad457ba344c9a74.jpg',\n",
              " 'cad4aef68af20652.jpg',\n",
              " 'cafe25b4aeb0a8a1.jpg',\n",
              " 'caedc0c08afba4e9.jpg',\n",
              " 'cae9ed81baab014e.jpg',\n",
              " 'cb5f3b6099dc1423.jpg',\n",
              " 'cb6d353a9a42ebc0.jpg',\n",
              " 'cb7845c00fb57bc4.jpg',\n",
              " 'cb907557600beccb.jpg',\n",
              " 'cba5b5c84fd7c0a0.jpg',\n",
              " 'cba838c9c96db331.jpg',\n",
              " 'cbb4efc81a2ca04f.jpg',\n",
              " 'cbc421fa22fb1399.jpg',\n",
              " 'cbbb8bc0361ff110.jpg',\n",
              " 'cbb66bad98910e32.jpg',\n",
              " 'cc448768ff40fe07.jpg',\n",
              " 'cc31c6cb2e25eb19.jpg',\n",
              " 'cc61e398752faac4.jpg',\n",
              " 'cc830b6959a3baab.jpg',\n",
              " 'cc85f50c7f18d68c.jpg',\n",
              " 'cc73e025cc36d31e.jpg',\n",
              " 'cc73e005cc36f31e.jpg',\n",
              " 'cc7ab3c418929abd.jpg',\n",
              " 'cc9f44613fe130c7.jpg',\n",
              " 'cc97390b6d627561.jpg',\n",
              " 'ccb8ddd19023f706.jpg',\n",
              " 'ccbf3e4341d4a1ca.jpg',\n",
              " 'ccc61a8c63bd97d0.jpg',\n",
              " 'ccbb367c5a6091cc.jpg',\n",
              " 'ccf32d99e6a50349.jpg',\n",
              " 'cd0bce16308f732d.jpg',\n",
              " 'ccfff005da03e9c0.jpg',\n",
              " 'ccd52ecf00ebd164.jpg',\n",
              " 'ccec54723ff91860.jpg',\n",
              " 'cd3a1d64e6806eb5.jpg',\n",
              " 'cd406ac787c6eab8.jpg',\n",
              " 'cd303b79927fc205.jpg',\n",
              " 'cd18a7b9792c1b4c.jpg',\n",
              " 'cd4a65822bd9de89.jpg',\n",
              " 'cd3f349dc066c439.jpg',\n",
              " 'cd24bffc080b76c1.jpg',\n",
              " 'cd8b4ada5c36341d.jpg',\n",
              " 'cd8075c399bee06c.jpg',\n",
              " 'cd8e56150de83e56.jpg',\n",
              " 'cd73219686dfb40c.jpg',\n",
              " 'cd633c6f1138393c.jpg',\n",
              " 'cd5827b1f0733632.jpg',\n",
              " 'cd8663d9c344aeaa.jpg',\n",
              " 'cd8d3235726223f5.jpg',\n",
              " 'cd9f9c90d9c861a9.jpg',\n",
              " 'cd9eb2a68e14662d.jpg',\n",
              " 'cd9fc2a9994fe810.jpg',\n",
              " 'cd9f7801fc03c71c.jpg',\n",
              " 'cdc13d9515b7082f.jpg',\n",
              " 'cdcd1608fe6a3d48.jpg',\n",
              " 'cdce451ea2996e25.jpg',\n",
              " 'cdaec9c4adb884d4.jpg',\n",
              " 'cde12319eea806ee.jpg',\n",
              " 'cde0a32e8eb1495b.jpg',\n",
              " 'cdd4b812709761f3.jpg',\n",
              " 'cddd20c43963ce2e.jpg',\n",
              " 'cdebc89999519469.jpg',\n",
              " 'cdfd5c912881eaca.jpg',\n",
              " 'ce2186d5ce759e90.jpg',\n",
              " 'ce6132c865db299d.jpg',\n",
              " 'ce87b2d1bf5a810c.jpg',\n",
              " 'cea8cd6830b4bd1d.jpg',\n",
              " 'cea2313e3753c5c2.jpg',\n",
              " 'cea4b5c20b839f0f.jpg',\n",
              " 'cec1e0abcaa57ca8.jpg',\n",
              " 'cec0dcc258b5435f.jpg',\n",
              " 'cf0b283930b2bb5b.jpg',\n",
              " 'cef59750decf00c0.jpg',\n",
              " 'cefd69868c4c9e81.jpg',\n",
              " 'cef01d9f13380a3d.jpg',\n",
              " 'cf0ec556d852a29e.jpg',\n",
              " 'cf3d6310af4405be.jpg',\n",
              " 'cf7065c1868b82df.jpg',\n",
              " 'cf600f10fb8d709e.jpg',\n",
              " 'cf703fda70e228a4.jpg',\n",
              " 'cf5263f340b9a4b4.jpg',\n",
              " 'cf61b53c018e70db.jpg',\n",
              " 'cf4ebb99510b0aa9.jpg',\n",
              " 'cf8cd55ad26b98c0.jpg',\n",
              " 'cf9f700326c43e71.jpg',\n",
              " 'cfac66c5346638d1.jpg',\n",
              " 'cfb200ff17816f48.jpg',\n",
              " 'cfe1e484b526d833.jpg',\n",
              " 'cfe1c6c3e882703e.jpg',\n",
              " 'cfc92c78b0b1a1cb.jpg',\n",
              " 'd007233d89f3eaf0.jpg',\n",
              " 'd007b2b489cf8bba.jpg',\n",
              " 'd02267967c57259d.jpg',\n",
              " 'd01e6b6226cc9cf5.jpg',\n",
              " 'd03180ff1ff63906.jpg',\n",
              " 'd034b416d6373f29.jpg',\n",
              " 'd07a5cb07c83e29e.jpg',\n",
              " 'd078ababdffa0201.jpg',\n",
              " 'd072bd97589f029a.jpg',\n",
              " 'd0702f857a1ae5ce.jpg',\n",
              " 'd08fc33fe44a57c0.jpg',\n",
              " 'd09f012b7971e1c7.jpg',\n",
              " 'd09e0ff72c607325.jpg',\n",
              " 'd09bc3f08f846e99.jpg',\n",
              " 'd0a630d66786e51f.jpg',\n",
              " 'd0add66ccc236e0d.jpg',\n",
              " 'd0a724df9d42f3c0.jpg',\n",
              " 'd0ab21bc9b39b712.jpg',\n",
              " 'd0a9d9c4ad7c3531.jpg',\n",
              " 'd0a98e4bfe61c3e0.jpg',\n",
              " 'd0a92f3dd2d21656.jpg',\n",
              " 'd0b4c1d21f3d2d8d.jpg',\n",
              " 'd0bc607d2d72f341.jpg',\n",
              " 'd0b911952bbe2735.jpg',\n",
              " 'd0c4389cc7a8efaa.jpg',\n",
              " 'd0bdf064db1ec831.jpg',\n",
              " 'd0dd7a8470d5b09d.jpg',\n",
              " 'd0ded7a58d837540.jpg',\n",
              " 'd0d6039f8bb594e1.jpg',\n",
              " 'd0de2d16c3f1c81d.jpg',\n",
              " 'd0db33e0b2a51e74.jpg',\n",
              " 'd0ccac49435565f7.jpg',\n",
              " 'd0e73fe532842b8a.jpg',\n",
              " 'd0e4c3de2a8e34d3.jpg',\n",
              " 'd0e491f459626cbb.jpg',\n",
              " 'd0f01af67c6e6498.jpg',\n",
              " 'd10eb1ea1e4ff089.jpg',\n",
              " 'd0fc54da438dcdc1.jpg',\n",
              " 'd10f693164819ff5.jpg',\n",
              " 'd17b9166229d33b1.jpg',\n",
              " 'd1403d7382ab1fb6.jpg',\n",
              " 'd14a42cf8c3537e9.jpg',\n",
              " 'd1996e659bc04765.jpg',\n",
              " 'd1c23a95469d2dbc.jpg',\n",
              " 'd1ba4e03df07f812.jpg',\n",
              " 'd1d7d56a2512d964.jpg',\n",
              " 'd1b93c588d1f3307.jpg',\n",
              " 'd1b99c346134bccd.jpg',\n",
              " 'd1da92ca9e74da82.jpg',\n",
              " 'd1dd12a22d8de62e.jpg',\n",
              " 'd1daaf4da8169529.jpg',\n",
              " 'd22ce0979e948dd9.jpg',\n",
              " 'd23e02d0def2a5e4.jpg',\n",
              " 'd21e3f7984b087a5.jpg',\n",
              " 'd21f921bc23d4d2d.jpg',\n",
              " 'd2369656daca8aca.jpg',\n",
              " 'd26f0ab36dd832e0.jpg',\n",
              " 'd24e3ad73ea0073a.jpg',\n",
              " 'd269b2ad70962f92.jpg',\n",
              " 'd258959b78e324e3.jpg',\n",
              " 'd252f81a32dbc715.jpg',\n",
              " 'd28f6360b6986b69.jpg',\n",
              " 'd283694dcd91b5a5.jpg',\n",
              " 'd281d27f4f2929c6.jpg',\n",
              " 'd2b867c032eadb64.jpg',\n",
              " 'd2ce7fb309b84894.jpg',\n",
              " 'd2e043ca872dca7e.jpg',\n",
              " 'd2f64d5827aa3a91.jpg',\n",
              " 'd2e43d92e0ef8661.jpg',\n",
              " 'd2e1930c1bf238f3.jpg',\n",
              " 'd2dc7fa03d141ec2.jpg',\n",
              " 'd326aaaa964f164b.jpg',\n",
              " 'd3496356815ea1de.jpg',\n",
              " 'd2fe2c88249f309f.jpg',\n",
              " 'd33c94dee0947d0c.jpg',\n",
              " 'd375275f98c88d42.jpg',\n",
              " 'd382ef2d8332e6c4.jpg',\n",
              " 'd36d368832c31c7b.jpg',\n",
              " 'd3c96892b78e4674.jpg',\n",
              " 'd3d237e0c3ca3465.jpg',\n",
              " 'd3c66ac935d183a6.jpg',\n",
              " 'd3bc5ae5a4c4642d.jpg',\n",
              " 'd3e3c1f018783e35.jpg',\n",
              " 'd3ed4bac0c211bd3.jpg',\n",
              " 'd424e6d741958de3.jpg',\n",
              " 'd46f7e4a73c00996.jpg',\n",
              " 'd49c30f31fa12f68.jpg',\n",
              " 'd4913d2569cf7c0c.jpg',\n",
              " 'd4953d781b0a4ea7.jpg',\n",
              " 'd4906ad169d705d7.jpg',\n",
              " 'd49a63bce881d8c7.jpg',\n",
              " 'd495a683d8abe90b.jpg',\n",
              " 'd491d05f0fade194.jpg',\n",
              " 'd4a437e742ba8d58.jpg',\n",
              " 'd4a29729161b673b.jpg',\n",
              " 'd4a328631d27786f.jpg',\n",
              " 'd4a325cf58473ca6.jpg',\n",
              " 'd4ab4a936b9b8398.jpg',\n",
              " 'd4c030ff9712139f.jpg',\n",
              " 'd4b09efd7c98cc20.jpg',\n",
              " 'd4bb3c3598ecb148.jpg',\n",
              " 'd4c5208f476e5ee2.jpg',\n",
              " 'd4f28a2f5f1e2909.jpg',\n",
              " 'd4df2f93901b1f20.jpg',\n",
              " 'd4fe7cb468491989.jpg',\n",
              " 'd5017e9fc074311f.jpg',\n",
              " 'd4f3a1ac85d8d9c8.jpg',\n",
              " 'd5183f837846ef60.jpg',\n",
              " 'd51d24818a4f5f5e.jpg',\n",
              " 'd52997d22a342de6.jpg',\n",
              " 'd51782721d9f1c9a.jpg',\n",
              " 'd56822e52bceb45c.jpg',\n",
              " 'd562e0cd2d3ed432.jpg',\n",
              " 'd56223830f7703cf.jpg',\n",
              " 'd55a38c9e61dd628.jpg',\n",
              " 'd595259516fbc02d.jpg',\n",
              " 'd58ad09e28df7825.jpg',\n",
              " 'd59737ed053066a1.jpg',\n",
              " 'd59f72426e2613c3.jpg',\n",
              " 'd5a174a573292177.jpg',\n",
              " 'd5ac27526895478f.jpg',\n",
              " 'd5c83e9692ce0e1e.jpg',\n",
              " 'd5c328d3439e83a7.jpg',\n",
              " 'd5bd3f18c2398c23.jpg',\n",
              " 'd5e6b780a94921d7.jpg',\n",
              " 'd5d7830e89421c7f.jpg',\n",
              " 'd5f23e9006c8e7e1.jpg',\n",
              " 'd5e81fc564653833.jpg',\n",
              " 'd5e89b7c031b9652.jpg',\n",
              " 'd5f0c2feb3942590.jpg',\n",
              " 'd5fd2180c1c1fda3.jpg',\n",
              " 'd5f4ca0a199a399d.jpg',\n",
              " 'd613bdc58cc622da.jpg',\n",
              " 'd67825d0f7d60155.jpg',\n",
              " 'd65aa18e45f43716.jpg',\n",
              " 'd67096507875e9b8.jpg',\n",
              " 'd6870090fd929f9d.jpg',\n",
              " 'd6842f96f23e0b2c.jpg',\n",
              " 'd689c0dfcf0a023f.jpg',\n",
              " 'd69ca9cac9c5944d.jpg',\n",
              " 'd6a497ac9e4d424d.jpg',\n",
              " 'd6be28cb3604e70e.jpg',\n",
              " 'd6c9931e28d31b66.jpg',\n",
              " 'd6b8c9c8fac6a0c5.jpg',\n",
              " 'd6e22683f092f05f.jpg',\n",
              " 'd6f008cd65163b2f.jpg',\n",
              " 'd6e0955da2566a4e.jpg',\n",
              " 'd6e2ce215d9a05f2.jpg',\n",
              " 'd736643a467296a5.jpg',\n",
              " 'd710eb3087f21f85.jpg',\n",
              " 'd70f2230fb5a093d.jpg',\n",
              " 'd7206fc730bf82c8.jpg',\n",
              " 'd76a39826033bcce.jpg',\n",
              " 'd7826acca9bcb862.jpg',\n",
              " 'd748d269c7610d75.jpg',\n",
              " 'd770b13291f3710b.jpg',\n",
              " 'd7978340027aebf1.jpg',\n",
              " 'd798342bf391c8c6.jpg',\n",
              " 'd7ded09919346945.jpg',\n",
              " 'd7c0b73427bc31c8.jpg',\n",
              " 'd7c07894c2bd1f25.jpg',\n",
              " 'd8242ec36f9678ac.jpg',\n",
              " 'd80e32d8e7698f68.jpg',\n",
              " 'd7edebd40042c2ab.jpg',\n",
              " 'd84995ff0211c7ba.jpg',\n",
              " 'd870e18f97bc8899.jpg',\n",
              " 'd88f66e083ed0de8.jpg',\n",
              " 'd89d9ede82743229.jpg',\n",
              " 'd8957a1f34b221d6.jpg',\n",
              " 'd89c9cda9274322f.jpg',\n",
              " 'd8a020e2e7fffe00.jpg',\n",
              " 'd8c63a98cf26956a.jpg',\n",
              " 'd8d1399b211a7b1b.jpg',\n",
              " 'd8eeca049f688ed4.jpg',\n",
              " 'd8e47368301ee6cb.jpg',\n",
              " 'd8fe6cb40363dd04.jpg',\n",
              " 'd8f03a23f2813f0f.jpg',\n",
              " 'd8f13d8048f72d1e.jpg',\n",
              " 'd919d79a42d83b98.jpg',\n",
              " 'd92248c86fdd30de.jpg',\n",
              " 'd924bb90ce61389f.jpg',\n",
              " 'd92531d6887973c6.jpg',\n",
              " 'd93c29966626f29a.jpg',\n",
              " 'd94e3ad8ae3ac870.jpg',\n",
              " 'd95f30a5c05f0fc2.jpg',\n",
              " 'd9760ec07bce7109.jpg',\n",
              " 'd9873876fce2422c.jpg',\n",
              " 'd96720fc36c10f8b.jpg',\n",
              " 'd99898db266ba865.jpg',\n",
              " 'd9a3c996b2b16532.jpg',\n",
              " 'd9b27ef2f66010a4.jpg',\n",
              " 'd9c53e98c0a49e3d.jpg',\n",
              " 'd9bf40d48372b6a1.jpg',\n",
              " 'd9cac80457f59b31.jpg',\n",
              " 'd9c9f99c8e994a44.jpg',\n",
              " 'd9ca4dc27645ce15.jpg',\n",
              " 'da0279d62ab7129d.jpg',\n",
              " 'd9e0323233c70f3e.jpg',\n",
              " 'da0775fd870855b0.jpg',\n",
              " 'd9ec3cc0c83503df.jpg',\n",
              " 'da2115bd3736b071.jpg',\n",
              " 'da2f40dc5db0257a.jpg',\n",
              " 'da0ff22d550d5523.jpg',\n",
              " 'da0dc56cea2ace54.jpg',\n",
              " 'da2a0b820bcf759d.jpg',\n",
              " 'da611e3fc2c8a18f.jpg',\n",
              " 'da51a8593de5466c.jpg',\n",
              " 'da8770e819d2696d.jpg',\n",
              " 'da882dcd946bc374.jpg',\n",
              " 'da915f88e03fb24c.jpg',\n",
              " 'da923aef61898dc8.jpg',\n",
              " 'daa87a93b8de1588.jpg',\n",
              " 'daad25fa07c0b64a.jpg',\n",
              " 'dab7694b1a1e1ca8.jpg',\n",
              " 'daa64d9336ed6046.jpg',\n",
              " 'dab12d89c67dc151.jpg',\n",
              " 'dab57a4bc314a551.jpg',\n",
              " 'dad43dead41f2214.jpg',\n",
              " 'dac97436a8d5e291.jpg',\n",
              " 'dad53cd2da6942a1.jpg',\n",
              " 'daca2d309662bb99.jpg',\n",
              " 'daec7180c12f4b9e.jpg',\n",
              " 'daeb2fc49405972a.jpg',\n",
              " 'daf34a33150db54c.jpg',\n",
              " 'db00e983bc71e395.jpg',\n",
              " 'db3972d3a7278244.jpg',\n",
              " 'db42e0b5dea4a2c5.jpg',\n",
              " 'db4372c742c9c39c.jpg',\n",
              " 'dba1e0e5a025aadb.jpg',\n",
              " 'dba1a0c1dfd8caa2.jpg',\n",
              " 'db838bc1d8432be3.jpg',\n",
              " 'dbc07f3f8020d4b3.jpg',\n",
              " 'dbba615b96d032c8.jpg',\n",
              " 'dbb719dab03808d3.jpg',\n",
              " 'dbbc81f40f4a2a5a.jpg',\n",
              " 'dbf3e0b226450a9d.jpg',\n",
              " 'dbe1b3846e06b86a.jpg',\n",
              " 'dc3524d8876d4f07.jpg',\n",
              " 'dbf6740f89911d21.jpg',\n",
              " 'dbfba01ec682c658.jpg',\n",
              " 'dc34c9e074f7a249.jpg',\n",
              " 'dc75921d9bcb1c0a.jpg',\n",
              " 'dc6e7b942a9a2d90.jpg',\n",
              " 'dc7185cc1ea72c87.jpg',\n",
              " 'dc5d14097ff1d013.jpg',\n",
              " 'dc8abcd05fc8c80f.jpg',\n",
              " 'dcac40666556793d.jpg',\n",
              " 'dc9bc0201ff07ef0.jpg',\n",
              " 'dca4c59705fc9ad0.jpg',\n",
              " 'dcca6a2b254ca4f6.jpg',\n",
              " 'dcc33e12f8e2036b.jpg',\n",
              " 'dcb140dad09edf0a.jpg',\n",
              " 'dccc2772e44e2762.jpg',\n",
              " 'dcb1e7938748362c.jpg',\n",
              " 'dcb3ec83848bace8.jpg',\n",
              " 'dcdae8b072b1ce30.jpg',\n",
              " 'dccdcbcd039c4a0d.jpg',\n",
              " 'dcdf3c3166d22524.jpg',\n",
              " 'dcff3a34f43a0061.jpg',\n",
              " 'dcfc3c9e3a1b08c1.jpg',\n",
              " 'dcf88a9264b663a5.jpg',\n",
              " 'dd3b0a638c787316.jpg',\n",
              " 'dd1330c8e33e3c87.jpg',\n",
              " 'dd13ded28a042dec.jpg',\n",
              " 'dd318529cd498eb5.jpg',\n",
              " 'dd19c598e90d69ac.jpg',\n",
              " 'dd449004b20ffedd.jpg',\n",
              " 'dd6ac9d79931023c.jpg',\n",
              " 'dd7037814d609dce.jpg',\n",
              " 'dd49395b9489663c.jpg',\n",
              " 'dd81d8c781272f27.jpg',\n",
              " 'dd4b32bd8634529c.jpg',\n",
              " 'dd6c3e9e9308cb48.jpg',\n",
              " 'dda168a1738722cf.jpg',\n",
              " 'dd9535ea0f35a809.jpg',\n",
              " 'dd9b1bd851f03033.jpg',\n",
              " 'ddb4bca0c9be6824.jpg',\n",
              " 'ddd8d0c20f073c73.jpg',\n",
              " 'ddd51cd069b8130f.jpg',\n",
              " 'dde793d8e601c432.jpg',\n",
              " 'dde6609c8ae7c170.jpg',\n",
              " 'ddef7398c420e198.jpg',\n",
              " 'dde71c02645ed2b2.jpg',\n",
              " 'ddec1e9cc21c270d.jpg',\n",
              " 'ddff4bc0a5a45818.jpg',\n",
              " 'de0b34699235a9e3.jpg',\n",
              " 'de304c8da87dc353.jpg',\n",
              " 'de953624919e8277.jpg',\n",
              " 'deb6000a27eb75d8.jpg',\n",
              " 'dec0e09fc38e858d.jpg',\n",
              " 'deb90397d308caa3.jpg',\n",
              " 'dec97832a9e2d246.jpg',\n",
              " 'dec8fae8f88f00e0.jpg',\n",
              " 'ded328aa53ac63d0.jpg',\n",
              " 'ded57ce32063350a.jpg',\n",
              " 'dedc61319ed86621.jpg',\n",
              " 'dedd202ec7f07218.jpg',\n",
              " 'dee2bd94d74a1441.jpg',\n",
              " 'defe7e9568880138.jpg',\n",
              " 'deef9a7818684187.jpg',\n",
              " 'df0f2ac26509656d.jpg',\n",
              " 'df4a6ca527073e06.jpg',\n",
              " 'df241594bbd2649a.jpg',\n",
              " 'df429cc4609dc9e3.jpg',\n",
              " 'df3f021ca2ea82ad.jpg',\n",
              " 'df824b2f8cc27f40.jpg',\n",
              " 'df9490df98492cb1.jpg',\n",
              " 'df8d975806fd4111.jpg',\n",
              " 'df7ce0e1041f1e86.jpg',\n",
              " 'df9b4fe733201302.jpg',\n",
              " 'dfc5d34f41456423.jpg',\n",
              " 'df9d6d24106f046b.jpg',\n",
              " 'dfc86b180e3ac8f8.jpg',\n",
              " 'dfcc6b28063a88fc.jpg',\n",
              " 'dfc883689f01cf31.jpg',\n",
              " 'dfc6621a8d273139.jpg',\n",
              " 'dfca603b4ca4aaa3.jpg',\n",
              " 'dfd32a5a09cec5c0.jpg',\n",
              " 'dfeb21c7c0520667.jpg',\n",
              " 'dfe17887030b5d1a.jpg',\n",
              " 'e00f759d65d52887.jpg',\n",
              " 'dfffc21494b8b090.jpg',\n",
              " 'e01112939f783fec.jpg',\n",
              " 'e01dc39ccb2b4ccb.jpg',\n",
              " 'e01ae16d4a759cb5.jpg',\n",
              " 'e02f87d268b402ff.jpg',\n",
              " 'e032458d17e5bab5.jpg',\n",
              " 'e03795d3f908a31d.jpg',\n",
              " 'e03ac18c8e99c3fd.jpg',\n",
              " 'e068d465d4756d1e.jpg',\n",
              " 'e04f97a0da3649d6.jpg',\n",
              " 'e047d2894ae334ef.jpg',\n",
              " 'e07caad4a3402fcf.jpg',\n",
              " 'e08799ce343e9de0.jpg',\n",
              " 'e0a14bd6f4e1278e.jpg',\n",
              " 'e0af1fbcb1404d9a.jpg',\n",
              " 'e0bae1b8ca2a58e7.jpg',\n",
              " 'e0bec0d0efc1815f.jpg',\n",
              " 'e0c3fec9e5361232.jpg',\n",
              " 'e0cb3f081fbe65a0.jpg',\n",
              " 'e0d29a952dab7561.jpg',\n",
              " 'e0cd4b382df53474.jpg',\n",
              " 'e0db6703687fc928.jpg',\n",
              " 'e0fac7c00ec2f8c7.jpg',\n",
              " 'e0fb308abbbb7108.jpg',\n",
              " 'e0ff08e05ea0d39d.jpg',\n",
              " 'e112d5f2c561169f.jpg',\n",
              " 'e13dd2594b49ad85.jpg',\n",
              " 'e13dc681d6c251de.jpg',\n",
              " 'e1699301cfa99f85.jpg',\n",
              " 'e1640ec0b78fe437.jpg',\n",
              " 'e143438d836bd51f.jpg',\n",
              " 'e1889dcf98f0873a.jpg',\n",
              " 'e18f855851e0f8e7.jpg',\n",
              " 'e18ae3830ce33d3e.jpg',\n",
              " 'e181f99f84663353.jpg',\n",
              " 'e1925457a0fe9a27.jpg',\n",
              " 'e19137d68ed68c38.jpg',\n",
              " 'e19e50da3d350ae9.jpg',\n",
              " 'e1a61cf6e982628f.jpg',\n",
              " 'e1b1f1f2de1c022e.jpg',\n",
              " 'e1b11f231ccfc07c.jpg',\n",
              " 'e1a781c31ec0dbcb.jpg',\n",
              " 'e1a64386c9d6295f.jpg',\n",
              " 'e1b830dec2c7078f.jpg',\n",
              " 'e1c5c59d9d30e172.jpg',\n",
              " 'e1e11785cf2a2f43.jpg',\n",
              " 'e1e422dd525277ac.jpg',\n",
              " 'e22b86d278fef180.jpg',\n",
              " 'e24a52973b3e70aa.jpg',\n",
              " 'e27ce0d4c6851ed6.jpg',\n",
              " 'e28e3df0a91d153a.jpg',\n",
              " 'e290daf89d49b81e.jpg',\n",
              " 'e2d2543ad6e9a156.jpg',\n",
              " 'e2e3f6c006ba825f.jpg',\n",
              " 'e2ec96a69cb6c813.jpg',\n",
              " 'e31c83999fcf04ac.jpg',\n",
              " 'e308eb9479a5545b.jpg',\n",
              " 'e383fb1a912b590b.jpg',\n",
              " 'e36f1368c0613be9.jpg',\n",
              " 'e38b8323da1e8fc2.jpg',\n",
              " 'e3789a85710b3976.jpg',\n",
              " 'e3ac9770136279cc.jpg',\n",
              " 'e3a90f126055e73e.jpg',\n",
              " 'e3f91cc3c3941b94.jpg',\n",
              " 'e3e2869f9cb03259.jpg',\n",
              " 'e46ac6563d5a30e5.jpg',\n",
              " 'e49dc5bdcd040c76.jpg',\n",
              " 'e490d1cc1adff8c8.jpg',\n",
              " 'e4ba93c9c15d5724.jpg',\n",
              " 'e4e81a68cb56e3b4.jpg',\n",
              " 'e4ead58e0dd0f930.jpg',\n",
              " 'e517bc1ec0b80dae.jpg',\n",
              " 'e50d1e683aab90dd.jpg',\n",
              " 'e51b7187619e24dc.jpg',\n",
              " 'e51bd4d12d9de070.jpg',\n",
              " 'e52aca58c89f35c5.jpg',\n",
              " 'e573c213ab413dcc.jpg',\n",
              " 'e54b34ad63c253a5.jpg',\n",
              " 'e589c21cebe634c6.jpg',\n",
              " 'e58ac3949f81d39c.jpg',\n",
              " 'e58b9719d938d035.jpg',\n",
              " 'e58b34c955c9da34.jpg',\n",
              " 'e5a38f7318254b8e.jpg',\n",
              " 'e59598871a625fd2.jpg',\n",
              " 'e5a7356a807a7730.jpg',\n",
              " 'e59eda894a255336.jpg',\n",
              " 'e59ed2dc91b002bb.jpg',\n",
              " 'e59398e692385fb0.jpg',\n",
              " 'e5b4da872d968b22.jpg',\n",
              " 'e5bdc24a10d65e78.jpg',\n",
              " 'e5c361c39f151e38.jpg',\n",
              " 'e5c9d28f8a15ac99.jpg',\n",
              " 'e5c222c7c6979d29.jpg',\n",
              " 'e5e01592f030eebb.jpg',\n",
              " 'e5e4319dc82d06d7.jpg',\n",
              " 'e5d8925aa521fc0f.jpg',\n",
              " 'e5df78c00ee1882f.jpg',\n",
              " 'e5ee33f5c4a01631.jpg',\n",
              " 'e5f71db861a4c609.jpg',\n",
              " 'e5f02fd3a051a05f.jpg',\n",
              " 'e5f4d3e960ae5086.jpg',\n",
              " 'e6e010339af7c3a3.jpg',\n",
              " 'e721a5c014f4f2f9.jpg',\n",
              " 'e6fcc4e08e8b449d.jpg',\n",
              " 'e712b70ce21d4a1f.jpg',\n",
              " 'e6f260b7b415d434.jpg',\n",
              " 'e761b89e928a4fc8.jpg',\n",
              " 'e795d2c8480cbcf6.jpg',\n",
              " 'e7a782e08b0f1f54.jpg',\n",
              " 'e7c33238184177de.jpg',\n",
              " 'e812856784bc7bec.jpg',\n",
              " 'e8829f1360cff634.jpg',\n",
              " 'e855d0a2eea447b6.jpg',\n",
              " 'e871c3ced550aaaa.jpg',\n",
              " 'e88c3550fbaec22d.jpg',\n",
              " 'e88f11b3c3439cad.jpg',\n",
              " 'e8941d8de87e27b0.jpg',\n",
              " 'e895d470eae348ab.jpg',\n",
              " 'e899d44d97092b6d.jpg',\n",
              " 'e89a5f6a10c72b47.jpg',\n",
              " 'e895f530c2a9d72a.jpg',\n",
              " 'e8b1e6549fc41fc0.jpg',\n",
              " 'e8ae85c4874d5fe0.jpg',\n",
              " 'e8b385855ed87299.jpg',\n",
              " 'e8b72196d638b0f1.jpg',\n",
              " 'e8d37af02746168d.jpg',\n",
              " 'e8ceca698cb729e0.jpg',\n",
              " 'e8cdc595cc50d965.jpg',\n",
              " 'e8df04865c3aad95.jpg',\n",
              " 'e8d9c3275a389a6a.jpg',\n",
              " 'e8e4e4c48dc49dce.jpg',\n",
              " 'e8ddc0dead212665.jpg',\n",
              " 'e8f99633003166fb.jpg',\n",
              " 'e8f583a51cdeb118.jpg',\n",
              " 'e8fdc098ab583738.jpg',\n",
              " 'e91ed270d8a5e90b.jpg',\n",
              " 'e90e1ac8b7e7aa50.jpg',\n",
              " 'e90ba5c9332f31c3.jpg',\n",
              " 'e90e1acab7e5aa50.jpg',\n",
              " 'e94663ad9c2ee530.jpg',\n",
              " 'e937984a326b72b2.jpg',\n",
              " 'e9623546d05a5fb8.jpg',\n",
              " 'e969c081c53d8fdc.jpg',\n",
              " 'e9914a729f5cb0a6.jpg',\n",
              " 'e9bce6d254130cab.jpg',\n",
              " 'e9bec748c8e1640f.jpg',\n",
              " 'e9e8b8f8e2e8a944.jpg',\n",
              " 'e9dac297cf381071.jpg',\n",
              " 'ea0ec53e8c3dcc70.jpg',\n",
              " 'e9f0c75e8863268d.jpg',\n",
              " 'ea1f8a6aa6c295c9.jpg',\n",
              " 'ea22d7c70f9ad418.jpg',\n",
              " 'ea2a2c4cd82c6fd5.jpg',\n",
              " 'ea49343e4a49f555.jpg',\n",
              " 'ea4bc3e536bf0218.jpg',\n",
              " 'ea496d75342a52ba.jpg',\n",
              " 'ea557ce5c486d2c8.jpg',\n",
              " 'ea8c976e11670c67.jpg',\n",
              " 'ea775f42f0f86018.jpg',\n",
              " 'ea92cd2573a11ccb.jpg',\n",
              " 'ea65c546c48e3ecc.jpg',\n",
              " 'ea871d670b1eda28.jpg',\n",
              " 'eaa3d0c288c75b4f.jpg',\n",
              " 'eaa6e1d4833c13cd.jpg',\n",
              " 'eaa1c592c6db8a5a.jpg',\n",
              " 'eaabc28781959717.jpg',\n",
              " 'eab016bceba8296c.jpg',\n",
              " 'eaa86fc81665d817.jpg',\n",
              " 'eaaf329457d40b16.jpg',\n",
              " 'eab49378926568a7.jpg',\n",
              " 'eacec0dd03a03fd1.jpg',\n",
              " 'ead085dfac287263.jpg',\n",
              " 'eae4c69005d79b2e.jpg',\n",
              " 'eae5c0b4cb5aad48.jpg',\n",
              " 'eaf0a0df1879930e.jpg',\n",
              " 'eae8f4520ec5f521.jpg',\n",
              " 'eb1ad078c170c7b5.jpg',\n",
              " 'eb1f86689e81bb0c.jpg',\n",
              " 'eb45234b52bb44ab.jpg',\n",
              " 'eb81968e9bca9878.jpg',\n",
              " 'eb66c3e3c112c5d2.jpg',\n",
              " 'eb8100abfd56157c.jpg',\n",
              " 'eb9a953b42664a95.jpg',\n",
              " 'eba5e0d501d0af8b.jpg',\n",
              " 'ebc2536d378d3205.jpg',\n",
              " 'ebc641c1c7e283ea.jpg',\n",
              " 'ebd7c6ea85640626.jpg',\n",
              " 'ebe670cccc07b906.jpg',\n",
              " 'ebd19f1c549a1ad0.jpg',\n",
              " 'ebd19f9c549a12d0.jpg',\n",
              " 'ebdccdcb9d112501.jpg',\n",
              " 'ebf8b6e8e0b84445.jpg',\n",
              " 'ec60fc9fc1c11bc1.jpg',\n",
              " 'ec5cc24ed65d44a5.jpg',\n",
              " 'ec70857ae78aa2d4.jpg',\n",
              " 'ec62934398749f5a.jpg',\n",
              " 'ec5e86e2ee84283d.jpg',\n",
              " 'eca651f0b38bda50.jpg',\n",
              " 'ecb986c159db8352.jpg',\n",
              " 'ecbe09992d9457a1.jpg',\n",
              " 'ed0778000fe5c7f2.jpg',\n",
              " 'eceb92d6d4910acc.jpg',\n",
              " 'ed34d4b492a69d0e.jpg',\n",
              " 'ed68ecfad8416843.jpg',\n",
              " 'ed34b6de8608dac2.jpg',\n",
              " 'ed993d2a7418a3c3.jpg',\n",
              " 'ed72c432a99ac92d.jpg',\n",
              " 'ed7ad8a9cc85a886.jpg',\n",
              " 'ed93a0fa560e6531.jpg',\n",
              " 'ed9ece0ece85082b.jpg',\n",
              " 'edc0cfc8da9c0969.jpg',\n",
              " 'edd80fb9441f8570.jpg',\n",
              " 'edf396cb601ab40c.jpg',\n",
              " 'ede27e12a1b009f5.jpg',\n",
              " 'ede9cac2222b23b5.jpg',\n",
              " 'ee1d74cb1d70a650.jpg',\n",
              " 'ee97c677a8233822.jpg',\n",
              " 'eea5c057c20ec69e.jpg',\n",
              " 'ee983169d74b151c.jpg',\n",
              " 'ee87879890b8a3c7.jpg',\n",
              " 'eed95ad30171b321.jpg',\n",
              " 'eec2edcc5094d68a.jpg',\n",
              " 'eee49485c857247e.jpg',\n",
              " 'ef0275948cb82aed.jpg',\n",
              " 'ef80753a1b853e07.jpg',\n",
              " 'ef7f4076cbc08183.jpg',\n",
              " 'ef56c42aea6411f1.jpg',\n",
              " 'ef543893e42f8616.jpg',\n",
              " 'ef5f9e680b27b002.jpg',\n",
              " 'ef9d80b19de51d08.jpg',\n",
              " 'ef88c69fce823cc0.jpg',\n",
              " 'ef842034d2fec791.jpg',\n",
              " 'efbcc09086859ebc.jpg',\n",
              " 'efc3beb1403c0276.jpg',\n",
              " 'efb98a76dc84980a.jpg',\n",
              " 'efbd3082703a651b.jpg',\n",
              " 'eff1831a12399157.jpg',\n",
              " 'efe282ba4ba8c13a.jpg',\n",
              " 'efd43a64622b584e.jpg',\n",
              " 'eff087cf823c0871.jpg',\n",
              " 'f024f8cd356e139a.jpg',\n",
              " 'f03dc0f0bdc3362c.jpg',\n",
              " 'f03f0ec0f009575f.jpg',\n",
              " 'f049c3a30edf3c98.jpg',\n",
              " 'f063873484735b9b.jpg',\n",
              " 'f06a949a2b9d478d.jpg',\n",
              " 'f05b875783b7e102.jpg',\n",
              " 'f05a9a745b4d4875.jpg',\n",
              " 'f06e8b295f8b64b0.jpg',\n",
              " 'f075c21337eb5285.jpg',\n",
              " 'f07f309c603c87f8.jpg',\n",
              " 'f088f1e00157bfae.jpg',\n",
              " 'f08693681a7e6f32.jpg',\n",
              " 'f084cf1236bf95c2.jpg',\n",
              " 'f09697d6dada8805.jpg',\n",
              " 'f09a9f50e82e6b25.jpg',\n",
              " 'f0981f48279b2f93.jpg',\n",
              " 'f0a087cb1e3c69f4.jpg',\n",
              " 'f0aa83b597c691c6.jpg',\n",
              " 'f0bb1fe0094de6a4.jpg',\n",
              " 'f0bf78e00f878728.jpg',\n",
              " 'f0bada34c90989e7.jpg',\n",
              " 'f0c217e200fe8f73.jpg',\n",
              " 'f0d0008a7c5e9bbf.jpg',\n",
              " 'f0e4c1526f5a5659.jpg',\n",
              " 'f0eb97c70a9e8988.jpg',\n",
              " 'f10691aef19e611d.jpg',\n",
              " 'f12c819d9fda5990.jpg',\n",
              " 'f11a43b01bf4326f.jpg',\n",
              " 'f12c4eb60dbc394a.jpg',\n",
              " 'f1139381aa27cdb6.jpg',\n",
              " 'f13053ad5c9856e5.jpg',\n",
              " 'f1258b4e187ec8b3.jpg',\n",
              " 'f13f0703df5a81a1.jpg',\n",
              " 'f188d04d97798af4.jpg',\n",
              " 'f1bda9c9c98dad00.jpg',\n",
              " 'f1b52245e41339fa.jpg',\n",
              " 'f1bccbee83dc0098.jpg',\n",
              " 'f1c2c3c107dda61e.jpg',\n",
              " 'f1cd1ace6a54151d.jpg',\n",
              " 'f1dbaf25507a2541.jpg',\n",
              " 'f23e9e4e426f300e.jpg',\n",
              " 'f233cb7f90b64061.jpg',\n",
              " 'f252928b5fb528b2.jpg',\n",
              " 'f25aebd0e42e13e0.jpg',\n",
              " 'f249c6b8c915e996.jpg',\n",
              " 'f282871f787a089f.jpg',\n",
              " 'f299876668ac9d1a.jpg',\n",
              " 'f295b6e816ae7881.jpg',\n",
              " 'f28f871d9a3c9270.jpg',\n",
              " 'f2eab09887e4c6e4.jpg',\n",
              " 'f2f982d1d2c7e340.jpg',\n",
              " 'f337d482839f80f1.jpg',\n",
              " 'f3094e360dec54cd.jpg',\n",
              " 'f33c830b3d964c33.jpg',\n",
              " 'f3b19b71a064687c.jpg',\n",
              " 'f3e9235b50b0a555.jpg',\n",
              " 'f4089a9c9e80afb7.jpg',\n",
              " 'f3f6071c28614d6d.jpg',\n",
              " ...]"
            ]
          },
          "metadata": {},
          "execution_count": 7
        }
      ],
      "source": [
        "from os import listdir\n",
        "from os.path import isfile, join\n",
        "\n",
        "monRepertoire='/content/drive/MyDrive/ P8_kaggle_competition/train_images'\n",
        "fichiers = [f for f in listdir(monRepertoire) if isfile(join(monRepertoire, f))]\n",
        "fichiers"
      ]
    },
    {
      "cell_type": "code",
      "execution_count": 8,
      "metadata": {
        "id": "H8nI7QXS6-Sr"
      },
      "outputs": [],
      "source": [
        "idx_list=[]\n",
        "for i in train_df['image']:\n",
        "  if i not in fichiers:\n",
        "    dt= train_df[train_df['image']==i]\n",
        "    train_df.drop(dt.index,axis=0,inplace=True)"
      ]
    },
    {
      "cell_type": "code",
      "execution_count": 9,
      "metadata": {
        "colab": {
          "base_uri": "https://localhost:8080/"
        },
        "id": "CDRs91SD8lI_",
        "outputId": "d27a8ec0-d276-47e8-f0cf-56dd1c3cf828"
      },
      "outputs": [
        {
          "output_type": "execute_result",
          "data": {
            "text/plain": [
              "(6227, 2)"
            ]
          },
          "metadata": {},
          "execution_count": 9
        }
      ],
      "source": [
        "train_df.shape"
      ]
    },
    {
      "cell_type": "code",
      "execution_count": 10,
      "metadata": {
        "colab": {
          "base_uri": "https://localhost:8080/",
          "height": 776
        },
        "id": "wd7GEJXU8Cwo",
        "outputId": "1f777b4d-4677-41cf-b360-5b78ca6ea54f"
      },
      "outputs": [
        {
          "output_type": "display_data",
          "data": {
            "image/png": "[encoded data removed]",
            "text/plain": [
              "<Figure size 1080x720 with 1 Axes>"
            ]
          },
          "metadata": {
            "needs_background": "light"
          }
        }
      ],
      "source": [
        "#Labels distribution\n",
        "plt.figure(figsize=(15,10))\n",
        "sns.countplot(data=train_df,x='labels')\n",
        "plt.xticks(rotation=90)\n",
        "plt.title('Labels distribution')\n",
        "plt.show()"
      ]
    },
    {
      "cell_type": "code",
      "execution_count": 11,
      "metadata": {
        "colab": {
          "base_uri": "https://localhost:8080/"
        },
        "id": "2orNeSB49zMx",
        "outputId": "7c5d2c37-7531-4018-a357-ea49d9849fba"
      },
      "outputs": [
        {
          "output_type": "stream",
          "name": "stdout",
          "text": [
            "Number of unique labels:  12\n"
          ]
        }
      ],
      "source": [
        "print(\"Number of unique labels: \",len(train_df['labels'].unique()))"
      ]
    },
    {
      "cell_type": "code",
      "source": [
        "train_df['labels'].value_counts()"
      ],
      "metadata": {
        "colab": {
          "base_uri": "https://localhost:8080/"
        },
        "id": "2jKR3eG6QlCH",
        "outputId": "56546906-8a88-4766-f5b5-eb34035799b6"
      },
      "execution_count": 13,
      "outputs": [
        {
          "output_type": "execute_result",
          "data": {
            "text/plain": [
              "scab                               1676\n",
              "healthy                            1610\n",
              "frog_eye_leaf_spot                  980\n",
              "rust                                711\n",
              "complex                             429\n",
              "powdery_mildew                      418\n",
              "scab frog_eye_leaf_spot             214\n",
              "scab frog_eye_leaf_spot complex      50\n",
              "rust frog_eye_leaf_spot              36\n",
              "frog_eye_leaf_spot complex           35\n",
              "rust complex                         35\n",
              "powdery_mildew complex               33\n",
              "Name: labels, dtype: int64"
            ]
          },
          "metadata": {},
          "execution_count": 13
        }
      ]
    },
    {
      "cell_type": "code",
      "source": [
        "lst_drop=['scab','healthy','frog_eye_leaf_spot','rust','complex','powdery_mildew','scab frog_eye_leaf_spot']\n",
        "for i in lst_drop:\n",
        "  dt=train_df[train_df['labels']==i]\n",
        "  train_df.drop(dt.index[400:],axis=0,inplace=True)"
      ],
      "metadata": {
        "id": "u8YvUO-XRvjl"
      },
      "execution_count": 14,
      "outputs": []
    },
    {
      "cell_type": "code",
      "source": [
        "#Labels distribution\n",
        "plt.figure(figsize=(15,10))\n",
        "sns.countplot(data=train_df,x='labels')\n",
        "plt.xticks(rotation=90)\n",
        "plt.title('Labels distribution')\n",
        "plt.show()"
      ],
      "metadata": {
        "colab": {
          "base_uri": "https://localhost:8080/",
          "height": 776
        },
        "id": "tXKZ_PsATBRu",
        "outputId": "0b3c2a2e-d4ca-4bcf-ca9a-4924bb283b17"
      },
      "execution_count": 15,
      "outputs": [
        {
          "output_type": "display_data",
          "data": {
            "image/png": "[encoded data removed]",
            "text/plain": [
              "<Figure size 1080x720 with 1 Axes>"
            ]
          },
          "metadata": {
            "needs_background": "light"
          }
        }
      ]
    },
    {
      "cell_type": "code",
      "execution_count": 16,
      "metadata": {
        "id": "A6SjiEL_-S8S"
      },
      "outputs": [],
      "source": [
        "# Use the Image Data Generator to import the images from the dataset\n",
        "from tensorflow.keras.preprocessing.image import ImageDataGenerator\n",
        "\n",
        "train_datagen = ImageDataGenerator(rescale = 1/255.,\n",
        "    rotation_range=20,\n",
        "    width_shift_range=0.2,\n",
        "    height_shift_range=0.2,\n",
        "    horizontal_flip=True,\n",
        "    validation_split = 0.2,\n",
        "    zoom_range = 0.2,\n",
        "    shear_range = 0.2,\n",
        "    vertical_flip = False)"
      ]
    },
    {
      "cell_type": "code",
      "execution_count": 17,
      "metadata": {
        "colab": {
          "base_uri": "https://localhost:8080/"
        },
        "id": "ry8wXK65-Vlh",
        "outputId": "2a26d2ed-221b-4e50-c44b-0068d40951f9"
      },
      "outputs": [
        {
          "output_type": "stream",
          "name": "stdout",
          "text": [
            "Found 1272 non-validated image filenames belonging to 12 classes.\n",
            "Found 317 non-validated image filenames belonging to 12 classes.\n"
          ]
        }
      ],
      "source": [
        "HEIGHT = 124\n",
        "WIDTH=124\n",
        "SEED = 143\n",
        "BATCH_SIZE=32\n",
        "train_ds = train_datagen.flow_from_dataframe(\n",
        "    train_df,\n",
        "    directory = TRAIN_PATH,\n",
        "    x_col = \"image\",\n",
        "    y_col = \"labels\",\n",
        "    target_size = (HEIGHT,WIDTH),\n",
        "    class_mode='categorical',\n",
        "    batch_size = BATCH_SIZE,\n",
        "    subset = \"training\",\n",
        "    shuffle = True,\n",
        "    seed = SEED,\n",
        "    validate_filenames = False)\n",
        "\n",
        "val_ds = train_datagen.flow_from_dataframe(\n",
        "    train_df,\n",
        "    directory = TRAIN_PATH,\n",
        "    x_col = \"image\",\n",
        "    y_col = \"labels\",\n",
        "    target_size = (HEIGHT,WIDTH),\n",
        "    class_mode='categorical',\n",
        "    batch_size = BATCH_SIZE,\n",
        "    subset = \"validation\",\n",
        "    shuffle = True,\n",
        "    seed = SEED,\n",
        "    validate_filenames = False\n",
        ")"
      ]
    },
    {
      "cell_type": "markdown",
      "metadata": {
        "id": "CTgj6KorA-gA"
      },
      "source": [
        "#CNN from scratch"
      ]
    },
    {
      "cell_type": "code",
      "execution_count": 18,
      "metadata": {
        "colab": {
          "base_uri": "https://localhost:8080/"
        },
        "id": "6Mo6pwsN-VuG",
        "outputId": "f940dac6-079e-4ca8-d938-4c69f6411489"
      },
      "outputs": [
        {
          "output_type": "stream",
          "name": "stdout",
          "text": [
            "Model: \"sequential\"\n",
            "_________________________________________________________________\n",
            " Layer (type)                Output Shape              Param #   \n",
            "=================================================================\n",
            " conv2d (Conv2D)             (None, 124, 124, 64)      1792      \n",
            "                                                                 \n",
            " max_pooling2d (MaxPooling2D  (None, 62, 62, 64)       0         \n",
            " )                                                               \n",
            "                                                                 \n",
            " conv2d_1 (Conv2D)           (None, 62, 62, 64)        36928     \n",
            "                                                                 \n",
            " max_pooling2d_1 (MaxPooling  (None, 31, 31, 64)       0         \n",
            " 2D)                                                             \n",
            "                                                                 \n",
            " conv2d_2 (Conv2D)           (None, 31, 31, 64)        36928     \n",
            "                                                                 \n",
            " max_pooling2d_2 (MaxPooling  (None, 15, 15, 64)       0         \n",
            " 2D)                                                             \n",
            "                                                                 \n",
            " conv2d_3 (Conv2D)           (None, 15, 15, 128)       73856     \n",
            "                                                                 \n",
            " max_pooling2d_3 (MaxPooling  (None, 7, 7, 128)        0         \n",
            " 2D)                                                             \n",
            "                                                                 \n",
            " flatten (Flatten)           (None, 6272)              0         \n",
            "                                                                 \n",
            " dense (Dense)               (None, 128)               802944    \n",
            "                                                                 \n",
            " dropout (Dropout)           (None, 128)               0         \n",
            "                                                                 \n",
            " dense_1 (Dense)             (None, 12)                1548      \n",
            "                                                                 \n",
            "=================================================================\n",
            "Total params: 953,996\n",
            "Trainable params: 953,996\n",
            "Non-trainable params: 0\n",
            "_________________________________________________________________\n"
          ]
        }
      ],
      "source": [
        "model=Sequential()\n",
        "model.add(Conv2D(64,(3,3),activation='relu',padding='same',input_shape=(HEIGHT,WIDTH,3)))\n",
        "model.add(MaxPooling2D(2,2))\n",
        "model.add(Conv2D(64,(3,3),activation='relu',padding='same'))\n",
        "model.add(MaxPooling2D(2,2))\n",
        "model.add(Conv2D(64,(3,3),activation='relu',padding='same'))\n",
        "model.add(MaxPooling2D(2,2))\n",
        "model.add(Conv2D(128,(3,3),activation='relu',padding='same'))\n",
        "model.add(MaxPooling2D(2,2))\n",
        "model.add(Flatten())\n",
        "model.add(Dense(128,activation='relu'))\n",
        "model.add(Dropout(0.2))\n",
        "model.add(Dense(12,activation='sigmoid'))\n",
        "\n",
        "# Compile the Model\n",
        "model.compile(optimizer=tf.keras.optimizers.Adam(learning_rate=0.001),\n",
        "    loss='categorical_crossentropy',\n",
        "    metrics = [tfa.metrics.F1Score(num_classes = 12,average = \"macro\",name = \"f1_score\")])\n",
        "model.summary()"
      ]
    },
    {
      "cell_type": "code",
      "execution_count": 19,
      "metadata": {
        "id": "xQWfymTr-V9o"
      },
      "outputs": [],
      "source": [
        "# Compile the Model\n",
        "model.compile(optimizer=tf.keras.optimizers.Adam(learning_rate=0.001),\n",
        "    loss='categorical_crossentropy',\n",
        "    metrics = [tfa.metrics.F1Score(num_classes = 12,average = \"macro\",name = \"f1_score\")])"
      ]
    },
    {
      "cell_type": "code",
      "source": [
        "file_path= '/content/drive/MyDrive/ P8_kaggle_competition/Best_model_cnn.h5'\n",
        "\n",
        "checkpoint=ModelCheckpoint(file_path,\n",
        "                          monitor=\"val_f1_score\",\n",
        "                          mode='max',\n",
        "                          save_best_only=True,\n",
        "                          verbose=1)\n",
        "earlystop=EarlyStopping(monitor=\"val_f1_score\",mode='max',\n",
        "                       patience=5,\n",
        "                       verbose=1,\n",
        "                       restore_best_weights=True)\n",
        "\n",
        "callbacks=[checkpoint,earlystop]"
      ],
      "metadata": {
        "id": "sOEyvL-hwQIh"
      },
      "execution_count": 20,
      "outputs": []
    },
    {
      "cell_type": "code",
      "execution_count": 21,
      "metadata": {
        "colab": {
          "base_uri": "https://localhost:8080/"
        },
        "id": "z-9nXPN4-WG3",
        "outputId": "8845d184-50b2-4c0e-d8c8-04e57f095bcd"
      },
      "outputs": [
        {
          "output_type": "stream",
          "name": "stdout",
          "text": [
            "Epoch 1/60\n",
            "9/9 [==============================] - ETA: 0s - loss: 2.4076 - f1_score: 0.0632 \n",
            "Epoch 00001: val_f1_score improved from -inf to 0.01429, saving model to /content/drive/MyDrive/ P8_kaggle_competition/Best_model_cnn.h5\n",
            "9/9 [==============================] - 183s 21s/step - loss: 2.4076 - f1_score: 0.0632 - val_loss: 2.2987 - val_f1_score: 0.0143\n",
            "Epoch 2/60\n",
            "9/9 [==============================] - ETA: 0s - loss: 2.2934 - f1_score: 0.0817 \n",
            "Epoch 00002: val_f1_score did not improve from 0.01429\n",
            "9/9 [==============================] - 144s 16s/step - loss: 2.2934 - f1_score: 0.0817 - val_loss: 2.5163 - val_f1_score: 0.0075\n",
            "Epoch 3/60\n",
            "9/9 [==============================] - ETA: 0s - loss: 2.3061 - f1_score: 0.0579 \n",
            "Epoch 00003: val_f1_score did not improve from 0.01429\n",
            "9/9 [==============================] - 127s 14s/step - loss: 2.3061 - f1_score: 0.0579 - val_loss: 2.5884 - val_f1_score: 0.0051\n",
            "Epoch 4/60\n",
            "9/9 [==============================] - ETA: 0s - loss: 2.3121 - f1_score: 0.0452\n",
            "Epoch 00004: val_f1_score did not improve from 0.01429\n",
            "9/9 [==============================] - 116s 13s/step - loss: 2.3121 - f1_score: 0.0452 - val_loss: 2.4048 - val_f1_score: 0.0121\n",
            "Epoch 5/60\n",
            "9/9 [==============================] - ETA: 0s - loss: 2.2989 - f1_score: 0.0726\n",
            "Epoch 00005: val_f1_score did not improve from 0.01429\n",
            "9/9 [==============================] - 112s 13s/step - loss: 2.2989 - f1_score: 0.0726 - val_loss: 2.4731 - val_f1_score: 0.0051\n",
            "Epoch 6/60\n",
            "9/9 [==============================] - ETA: 0s - loss: 2.3018 - f1_score: 0.0523\n",
            "Epoch 00006: val_f1_score did not improve from 0.01429\n",
            "Restoring model weights from the end of the best epoch: 1.\n",
            "9/9 [==============================] - 89s 10s/step - loss: 2.3018 - f1_score: 0.0523 - val_loss: 2.3070 - val_f1_score: 0.0079\n",
            "Epoch 00006: early stopping\n",
            "Done in 842.133s.\n"
          ]
        }
      ],
      "source": [
        "t0 = time()\n",
        "\n",
        "epochs = 60\n",
        "\n",
        "model_history=model.fit(train_ds,validation_data=val_ds,\n",
        "                                 epochs= epochs,\n",
        "                                 steps_per_epoch=train_ds.samples//128,\n",
        "                                 validation_steps=val_ds.samples//128,\n",
        "                                 callbacks=callbacks)\n",
        "\n",
        "\n",
        "print(\"Done in %0.3fs.\" % (time() - t0))"
      ]
    },
    {
      "cell_type": "code",
      "source": [
        "acc = model_history.history['f1_score']\n",
        "val_acc = model_history.history['val_f1_score']\n",
        "\n",
        "loss = model_history.history['loss']\n",
        "val_loss = model_history.history['val_loss']\n",
        "\n",
        "plt.figure(figsize=(8, 8))\n",
        "plt.subplot(2, 1, 1)\n",
        "plt.plot(acc, label='Training Accuracy')\n",
        "plt.plot(val_acc, label='Validation Accuracy')\n",
        "plt.legend(loc='upper right')\n",
        "plt.ylabel('Accuracy')\n",
        "plt.ylim([min(plt.ylim()),1])\n",
        "plt.title('Training and Validation Accuracy')\n",
        "\n",
        "plt.subplot(2, 1, 2)\n",
        "plt.plot(loss, label='Training Loss')\n",
        "plt.plot(val_loss, label='Validation Loss')\n",
        "plt.legend(loc='lower right')\n",
        "plt.ylabel('Cross Entropy')\n",
        "plt.ylim([0,2.0])\n",
        "plt.title('Training and Validation Loss')\n",
        "plt.xlabel('epoch')\n",
        "plt.show()"
      ],
      "metadata": {
        "colab": {
          "base_uri": "https://localhost:8080/",
          "height": 513
        },
        "id": "qGFhFY2Vu18T",
        "outputId": "5ab207f7-4a37-4ef9-cd67-ce33e42ac694"
      },
      "execution_count": 22,
      "outputs": [
        {
          "output_type": "display_data",
          "data": {
            "image/png": "[encoded data removed]",
            "text/plain": [
              "<Figure size 576x576 with 2 Axes>"
            ]
          },
          "metadata": {
            "needs_background": "light"
          }
        }
      ]
    },
    {
      "cell_type": "markdown",
      "metadata": {
        "id": "SZAlqy01_Jzk"
      },
      "source": [
        "#Transfer learning with inceptionV3"
      ]
    },
    {
      "cell_type": "code",
      "execution_count": 23,
      "metadata": {
        "id": "T6cBiIvw_R5g"
      },
      "outputs": [],
      "source": [
        "from  tensorflow.keras.applications import InceptionV3"
      ]
    },
    {
      "cell_type": "code",
      "execution_count": 24,
      "metadata": {
        "id": "0cMLYdz9_h_y",
        "colab": {
          "base_uri": "https://localhost:8080/"
        },
        "outputId": "2cad01bf-a826-4d74-aa8c-65bda22d0bf6"
      },
      "outputs": [
        {
          "output_type": "stream",
          "name": "stdout",
          "text": [
            "Downloading data from https://storage.googleapis.com/tensorflow/keras-applications/inception_v3/inception_v3_weights_tf_dim_ordering_tf_kernels_notop.h5\n",
            "87916544/87910968 [==============================] - 1s 0us/step\n",
            "87924736/87910968 [==============================] - 1s 0us/step\n"
          ]
        }
      ],
      "source": [
        "#initialise base model\n",
        "IMG_SHAPE = (124, 124, 3)\n",
        "\n",
        "base_model=  InceptionV3(\n",
        "    weights='imagenet',\n",
        "    input_shape= IMG_SHAPE,\n",
        "    include_top=False)"
      ]
    },
    {
      "cell_type": "code",
      "execution_count": 25,
      "metadata": {
        "colab": {
          "base_uri": "https://localhost:8080/"
        },
        "id": "JDEmLZmF_iKE",
        "outputId": "bef13bf6-d1d7-411f-e761-252e7f74e8c6"
      },
      "outputs": [
        {
          "output_type": "stream",
          "name": "stdout",
          "text": [
            "Model: \"sequential_1\"\n",
            "_________________________________________________________________\n",
            " Layer (type)                Output Shape              Param #   \n",
            "=================================================================\n",
            " inception_v3 (Functional)   (None, 2, 2, 2048)        21802784  \n",
            "                                                                 \n",
            " global_average_pooling2d (G  (None, 2048)             0         \n",
            " lobalAveragePooling2D)                                          \n",
            "                                                                 \n",
            " dense_2 (Dense)             (None, 320)               655680    \n",
            "                                                                 \n",
            " dropout_1 (Dropout)         (None, 320)               0         \n",
            "                                                                 \n",
            " dense_3 (Dense)             (None, 12)                3852      \n",
            "                                                                 \n",
            "=================================================================\n",
            "Total params: 22,462,316\n",
            "Trainable params: 659,532\n",
            "Non-trainable params: 21,802,784\n",
            "_________________________________________________________________\n"
          ]
        }
      ],
      "source": [
        "base_model.trainable = False\n",
        "model = tf.keras.Sequential()\n",
        "model.add(base_model)\n",
        "model.add(tf.keras.layers.GlobalAveragePooling2D())\n",
        "model.add(tf.keras.layers.Dense(320, activation='relu'))\n",
        "model.add(tf.keras.layers.Dropout(0.2))\n",
        "model.add(tf.keras.layers.Dense(12, activation='sigmoid'))\n",
        "model.summary()"
      ]
    },
    {
      "cell_type": "code",
      "execution_count": 26,
      "metadata": {
        "id": "Zs5A9RWP_7sa"
      },
      "outputs": [],
      "source": [
        "# Compile the Model\n",
        "model.compile(optimizer=tf.keras.optimizers.Adam(learning_rate=0.001),\n",
        "    loss='categorical_crossentropy',\n",
        "    metrics = [tfa.metrics.F1Score(num_classes = 12,average = \"macro\",name = \"f1_score\")])"
      ]
    },
    {
      "cell_type": "code",
      "execution_count": 27,
      "metadata": {
        "id": "n-GmWmtu-WKa"
      },
      "outputs": [],
      "source": [
        "file_path= '/content/drive/MyDrive/ P8_kaggle_competition/Best_basemodel_inceptionV3.h5'\n",
        "\n",
        "checkpoint=ModelCheckpoint(file_path,\n",
        "                          monitor=\"val_f1_score\",\n",
        "                          mode='max',\n",
        "                          save_best_only=True,\n",
        "                          verbose=1)\n",
        "earlystop=EarlyStopping(monitor=\"val_f1_score\",mode='max',\n",
        "                       patience=5,\n",
        "                       verbose=1,\n",
        "                       restore_best_weights=True)\n",
        "\n",
        "callbacks=[checkpoint,earlystop]"
      ]
    },
    {
      "cell_type": "code",
      "execution_count": 28,
      "metadata": {
        "colab": {
          "base_uri": "https://localhost:8080/"
        },
        "id": "le5Ob--YACJR",
        "outputId": "b454b739-2581-4aa1-bc2d-663b3a6bdbb3"
      },
      "outputs": [
        {
          "output_type": "stream",
          "name": "stdout",
          "text": [
            "Epoch 1/20\n",
            "9/9 [==============================] - ETA: 0s - loss: 3.9373 - f1_score: 0.0762\n",
            "Epoch 00001: val_f1_score improved from -inf to 0.03313, saving model to /content/drive/MyDrive/ P8_kaggle_competition/Best_basemodel_inceptionV3.h5\n",
            "9/9 [==============================] - 98s 11s/step - loss: 3.9373 - f1_score: 0.0762 - val_loss: 2.7934 - val_f1_score: 0.0331\n",
            "Epoch 2/20\n",
            "9/9 [==============================] - ETA: 0s - loss: 2.7207 - f1_score: 0.1609\n",
            "Epoch 00002: val_f1_score improved from 0.03313 to 0.10361, saving model to /content/drive/MyDrive/ P8_kaggle_competition/Best_basemodel_inceptionV3.h5\n",
            "9/9 [==============================] - 79s 9s/step - loss: 2.7207 - f1_score: 0.1609 - val_loss: 2.3160 - val_f1_score: 0.1036\n",
            "Epoch 3/20\n",
            "9/9 [==============================] - ETA: 0s - loss: 2.3023 - f1_score: 0.1512\n",
            "Epoch 00003: val_f1_score improved from 0.10361 to 0.13165, saving model to /content/drive/MyDrive/ P8_kaggle_competition/Best_basemodel_inceptionV3.h5\n",
            "9/9 [==============================] - 79s 9s/step - loss: 2.3023 - f1_score: 0.1512 - val_loss: 1.9912 - val_f1_score: 0.1317\n",
            "Epoch 4/20\n",
            "9/9 [==============================] - ETA: 0s - loss: 2.2639 - f1_score: 0.1823\n",
            "Epoch 00004: val_f1_score did not improve from 0.13165\n",
            "9/9 [==============================] - 74s 8s/step - loss: 2.2639 - f1_score: 0.1823 - val_loss: 2.2053 - val_f1_score: 0.1188\n",
            "Epoch 5/20\n",
            "9/9 [==============================] - ETA: 0s - loss: 2.2008 - f1_score: 0.1593\n",
            "Epoch 00005: val_f1_score did not improve from 0.13165\n",
            "9/9 [==============================] - 93s 11s/step - loss: 2.2008 - f1_score: 0.1593 - val_loss: 2.0986 - val_f1_score: 0.1183\n",
            "Epoch 6/20\n",
            "9/9 [==============================] - ETA: 0s - loss: 2.1629 - f1_score: 0.1598\n",
            "Epoch 00006: val_f1_score improved from 0.13165 to 0.13175, saving model to /content/drive/MyDrive/ P8_kaggle_competition/Best_basemodel_inceptionV3.h5\n",
            "9/9 [==============================] - 85s 10s/step - loss: 2.1629 - f1_score: 0.1598 - val_loss: 2.3023 - val_f1_score: 0.1318\n",
            "Epoch 7/20\n",
            "9/9 [==============================] - ETA: 0s - loss: 2.0504 - f1_score: 0.1770\n",
            "Epoch 00007: val_f1_score improved from 0.13175 to 0.14344, saving model to /content/drive/MyDrive/ P8_kaggle_competition/Best_basemodel_inceptionV3.h5\n",
            "9/9 [==============================] - 72s 8s/step - loss: 2.0504 - f1_score: 0.1770 - val_loss: 2.1484 - val_f1_score: 0.1434\n",
            "Epoch 8/20\n",
            "9/9 [==============================] - ETA: 0s - loss: 2.0768 - f1_score: 0.1960\n",
            "Epoch 00008: val_f1_score did not improve from 0.14344\n",
            "9/9 [==============================] - 69s 8s/step - loss: 2.0768 - f1_score: 0.1960 - val_loss: 2.3458 - val_f1_score: 0.0754\n",
            "Epoch 9/20\n",
            "9/9 [==============================] - ETA: 0s - loss: 2.0624 - f1_score: 0.1755\n",
            "Epoch 00009: val_f1_score improved from 0.14344 to 0.14728, saving model to /content/drive/MyDrive/ P8_kaggle_competition/Best_basemodel_inceptionV3.h5\n",
            "9/9 [==============================] - 72s 8s/step - loss: 2.0624 - f1_score: 0.1755 - val_loss: 2.0332 - val_f1_score: 0.1473\n",
            "Epoch 10/20\n",
            "9/9 [==============================] - ETA: 0s - loss: 1.9674 - f1_score: 0.2200\n",
            "Epoch 00010: val_f1_score did not improve from 0.14728\n",
            "9/9 [==============================] - 69s 8s/step - loss: 1.9674 - f1_score: 0.2200 - val_loss: 2.2952 - val_f1_score: 0.1106\n",
            "Epoch 11/20\n",
            "9/9 [==============================] - ETA: 0s - loss: 2.0827 - f1_score: 0.1870\n",
            "Epoch 00011: val_f1_score improved from 0.14728 to 0.23524, saving model to /content/drive/MyDrive/ P8_kaggle_competition/Best_basemodel_inceptionV3.h5\n",
            "9/9 [==============================] - 71s 8s/step - loss: 2.0827 - f1_score: 0.1870 - val_loss: 1.9337 - val_f1_score: 0.2352\n",
            "Epoch 12/20\n",
            "9/9 [==============================] - ETA: 0s - loss: 2.0132 - f1_score: 0.2129\n",
            "Epoch 00012: val_f1_score did not improve from 0.23524\n",
            "9/9 [==============================] - 66s 8s/step - loss: 2.0132 - f1_score: 0.2129 - val_loss: 2.0765 - val_f1_score: 0.1823\n",
            "Epoch 13/20\n",
            "9/9 [==============================] - ETA: 0s - loss: 1.9846 - f1_score: 0.1802\n",
            "Epoch 00013: val_f1_score did not improve from 0.23524\n",
            "9/9 [==============================] - 67s 8s/step - loss: 1.9846 - f1_score: 0.1802 - val_loss: 1.9609 - val_f1_score: 0.1891\n",
            "Epoch 14/20\n",
            "9/9 [==============================] - ETA: 0s - loss: 1.9324 - f1_score: 0.2289\n",
            "Epoch 00014: val_f1_score did not improve from 0.23524\n",
            "9/9 [==============================] - 67s 8s/step - loss: 1.9324 - f1_score: 0.2289 - val_loss: 1.8154 - val_f1_score: 0.2118\n",
            "Epoch 15/20\n",
            "9/9 [==============================] - ETA: 0s - loss: 1.8969 - f1_score: 0.1873\n",
            "Epoch 00015: val_f1_score did not improve from 0.23524\n",
            "9/9 [==============================] - 67s 8s/step - loss: 1.8969 - f1_score: 0.1873 - val_loss: 2.1139 - val_f1_score: 0.1716\n",
            "Epoch 16/20\n",
            "9/9 [==============================] - ETA: 0s - loss: 2.0067 - f1_score: 0.2168\n",
            "Epoch 00016: val_f1_score did not improve from 0.23524\n",
            "Restoring model weights from the end of the best epoch: 11.\n",
            "9/9 [==============================] - 67s 8s/step - loss: 2.0067 - f1_score: 0.2168 - val_loss: 1.9681 - val_f1_score: 0.2072\n",
            "Epoch 00016: early stopping\n",
            "Done in 1267.548s.\n"
          ]
        }
      ],
      "source": [
        "t0 = time()\n",
        "\n",
        "epochs = 20\n",
        "\n",
        "model_history= model.fit(train_ds,validation_data=val_ds,\n",
        "                         steps_per_epoch=train_ds.samples//128,\n",
        "                                 validation_steps=val_ds.samples//128,\n",
        "                                 epochs= epochs,\n",
        "                                 callbacks=callbacks)\n",
        "\n",
        "\n",
        "print(\"Done in %0.3fs.\" % (time() - t0))"
      ]
    },
    {
      "cell_type": "code",
      "execution_count": 29,
      "metadata": {
        "colab": {
          "base_uri": "https://localhost:8080/",
          "height": 513
        },
        "id": "SyYP0EOFhO2f",
        "outputId": "9d58677f-a776-4fe5-ed41-84693eeb577e"
      },
      "outputs": [
        {
          "output_type": "display_data",
          "data": {
            "image/png": "[encoded data removed]",
            "text/plain": [
              "<Figure size 576x576 with 2 Axes>"
            ]
          },
          "metadata": {
            "needs_background": "light"
          }
        }
      ],
      "source": [
        "acc = model_history.history['f1_score']\n",
        "val_acc = model_history.history['val_f1_score']\n",
        "\n",
        "loss = model_history.history['loss']\n",
        "val_loss = model_history.history['val_loss']\n",
        "\n",
        "plt.figure(figsize=(8, 8))\n",
        "plt.subplot(2, 1, 1)\n",
        "plt.plot(acc, label='Training Accuracy')\n",
        "plt.plot(val_acc, label='Validation Accuracy')\n",
        "plt.legend(loc='upper right')\n",
        "plt.ylabel('Accuracy')\n",
        "plt.ylim([min(plt.ylim()),1])\n",
        "plt.title('Training and Validation Accuracy')\n",
        "\n",
        "plt.subplot(2, 1, 2)\n",
        "plt.plot(loss, label='Training Loss')\n",
        "plt.plot(val_loss, label='Validation Loss')\n",
        "plt.legend(loc='lower right')\n",
        "plt.ylabel('Cross Entropy')\n",
        "plt.ylim([0,2.0])\n",
        "plt.title('Training and Validation Loss')\n",
        "plt.xlabel('epoch')\n",
        "plt.show()"
      ]
    },
    {
      "cell_type": "markdown",
      "metadata": {
        "id": "mXr12WrHf30_"
      },
      "source": [
        "##Fine_tunning"
      ]
    },
    {
      "cell_type": "code",
      "execution_count": 30,
      "metadata": {
        "id": "FSJF67e1f2pR"
      },
      "outputs": [],
      "source": [
        "base_model.trainable = True"
      ]
    },
    {
      "cell_type": "code",
      "execution_count": 31,
      "metadata": {
        "colab": {
          "base_uri": "https://localhost:8080/"
        },
        "id": "eqZ2a33RACLF",
        "outputId": "c6e5f757-16a7-41ef-f581-f0629bae173a"
      },
      "outputs": [
        {
          "output_type": "stream",
          "name": "stdout",
          "text": [
            "Number of layers in the base model:  311\n"
          ]
        }
      ],
      "source": [
        "print(\"Number of layers in the base model: \", len(base_model.layers))"
      ]
    },
    {
      "cell_type": "code",
      "execution_count": 32,
      "metadata": {
        "id": "6AwzOA5SACNJ"
      },
      "outputs": [],
      "source": [
        "fine_tune_at = 200\n",
        "\n",
        "# Freeze all the layers before the 'fine_tune_at' layer\n",
        "for layer in base_model.layers[:fine_tune_at]:\n",
        "  layer.trainable =  False"
      ]
    },
    {
      "cell_type": "code",
      "execution_count": 33,
      "metadata": {
        "id": "BO-3PkRsACRR"
      },
      "outputs": [],
      "source": [
        "# Compile the Model\n",
        "model.compile(optimizer=tf.keras.optimizers.Adam(learning_rate=0.001/10),\n",
        "    loss='categorical_crossentropy',\n",
        "    metrics = [tfa.metrics.F1Score(num_classes = 12,average = \"macro\",name = \"f1_score\")])"
      ]
    },
    {
      "cell_type": "code",
      "execution_count": 34,
      "metadata": {
        "id": "S94fA4viACVu"
      },
      "outputs": [],
      "source": [
        "file_path= '/content/drive/MyDrive/ P8_kaggle_competition/Best_model_inceptionV3.h5'\n",
        "\n",
        "checkpoint=ModelCheckpoint(file_path,\n",
        "                          monitor=\"val_f1_score\",\n",
        "                          mode='max',\n",
        "                          save_best_only=True,\n",
        "                          verbose=1)\n",
        "earlystop=EarlyStopping(monitor=\"val_f1_score\",mode='max',\n",
        "                       patience=5,\n",
        "                       verbose=1,\n",
        "                       restore_best_weights=True)\n",
        "\n",
        "callbacks=[checkpoint,earlystop]"
      ]
    },
    {
      "cell_type": "code",
      "execution_count": 35,
      "metadata": {
        "colab": {
          "base_uri": "https://localhost:8080/"
        },
        "id": "XJGDjX4CgxOE",
        "outputId": "c6472d28-f8ea-4ba1-f32b-48bfb59437df"
      },
      "outputs": [
        {
          "output_type": "stream",
          "name": "stdout",
          "text": [
            "Epoch 16/60\n",
            "9/9 [==============================] - ETA: 0s - loss: 2.2763 - f1_score: 0.1188\n",
            "Epoch 00016: val_f1_score improved from -inf to 0.20404, saving model to /content/drive/MyDrive/ P8_kaggle_competition/Best_model_inceptionV3.h5\n",
            "9/9 [==============================] - 93s 10s/step - loss: 2.2763 - f1_score: 0.1188 - val_loss: 2.0318 - val_f1_score: 0.2040\n",
            "Epoch 17/60\n",
            "9/9 [==============================] - ETA: 0s - loss: 2.2398 - f1_score: 0.1060\n",
            "Epoch 00017: val_f1_score did not improve from 0.20404\n",
            "9/9 [==============================] - 76s 9s/step - loss: 2.2398 - f1_score: 0.1060 - val_loss: 1.9344 - val_f1_score: 0.1385\n",
            "Epoch 18/60\n",
            "9/9 [==============================] - ETA: 0s - loss: 2.1123 - f1_score: 0.1707\n",
            "Epoch 00018: val_f1_score did not improve from 0.20404\n",
            "9/9 [==============================] - 79s 9s/step - loss: 2.1123 - f1_score: 0.1707 - val_loss: 1.9160 - val_f1_score: 0.1600\n",
            "Epoch 19/60\n",
            "9/9 [==============================] - ETA: 0s - loss: 2.0637 - f1_score: 0.1507\n",
            "Epoch 00019: val_f1_score improved from 0.20404 to 0.20440, saving model to /content/drive/MyDrive/ P8_kaggle_competition/Best_model_inceptionV3.h5\n",
            "9/9 [==============================] - 79s 9s/step - loss: 2.0637 - f1_score: 0.1507 - val_loss: 2.0059 - val_f1_score: 0.2044\n",
            "Epoch 20/60\n",
            "9/9 [==============================] - ETA: 0s - loss: 2.0812 - f1_score: 0.1535\n",
            "Epoch 00020: val_f1_score improved from 0.20440 to 0.23310, saving model to /content/drive/MyDrive/ P8_kaggle_competition/Best_model_inceptionV3.h5\n",
            "9/9 [==============================] - 81s 9s/step - loss: 2.0812 - f1_score: 0.1535 - val_loss: 1.8114 - val_f1_score: 0.2331\n",
            "Epoch 21/60\n",
            "9/9 [==============================] - ETA: 0s - loss: 1.8977 - f1_score: 0.1985\n",
            "Epoch 00021: val_f1_score did not improve from 0.23310\n",
            "9/9 [==============================] - 77s 9s/step - loss: 1.8977 - f1_score: 0.1985 - val_loss: 1.8858 - val_f1_score: 0.1173\n",
            "Epoch 22/60\n",
            "9/9 [==============================] - ETA: 0s - loss: 1.9550 - f1_score: 0.1961\n",
            "Epoch 00022: val_f1_score did not improve from 0.23310\n",
            "9/9 [==============================] - 76s 9s/step - loss: 1.9550 - f1_score: 0.1961 - val_loss: 1.7411 - val_f1_score: 0.1808\n",
            "Epoch 23/60\n",
            "9/9 [==============================] - ETA: 0s - loss: 1.8699 - f1_score: 0.2259\n",
            "Epoch 00023: val_f1_score did not improve from 0.23310\n",
            "9/9 [==============================] - 77s 9s/step - loss: 1.8699 - f1_score: 0.2259 - val_loss: 1.8114 - val_f1_score: 0.1759\n",
            "Epoch 24/60\n",
            "9/9 [==============================] - ETA: 0s - loss: 1.7722 - f1_score: 0.2326\n",
            "Epoch 00024: val_f1_score did not improve from 0.23310\n",
            "9/9 [==============================] - 75s 9s/step - loss: 1.7722 - f1_score: 0.2326 - val_loss: 1.6998 - val_f1_score: 0.2067\n",
            "Epoch 25/60\n",
            "9/9 [==============================] - ETA: 0s - loss: 1.7485 - f1_score: 0.2414\n",
            "Epoch 00025: val_f1_score did not improve from 0.23310\n",
            "Restoring model weights from the end of the best epoch: 20.\n",
            "9/9 [==============================] - 76s 9s/step - loss: 1.7485 - f1_score: 0.2414 - val_loss: 1.7219 - val_f1_score: 0.2205\n",
            "Epoch 00025: early stopping\n",
            "Done in 807.721s.\n"
          ]
        }
      ],
      "source": [
        "t0 = time()\n",
        "\n",
        "fine_tune_epochs = 40\n",
        "total_epochs =  epochs + fine_tune_epochs\n",
        "\n",
        "model_history_fine = model.fit(train_ds,validation_data=val_ds,\n",
        "                         steps_per_epoch=train_ds.samples//128,\n",
        "                                 validation_steps=val_ds.samples//128,\n",
        "                                 epochs= total_epochs,\n",
        "                         initial_epoch=model_history.epoch[-1],\n",
        "                                 callbacks=callbacks)\n",
        "\n",
        "\n",
        "print(\"Done in %0.3fs.\" % (time() - t0))"
      ]
    },
    {
      "cell_type": "code",
      "execution_count": 36,
      "metadata": {
        "id": "vWDxl8Pb_E67"
      },
      "outputs": [],
      "source": [
        "acc += model_history_fine.history['f1_score']\n",
        "val_acc += model_history_fine.history['val_f1_score']\n",
        "\n",
        "loss += model_history_fine.history['loss']\n",
        "val_loss += model_history_fine.history['val_loss']"
      ]
    },
    {
      "cell_type": "code",
      "execution_count": 37,
      "metadata": {
        "colab": {
          "base_uri": "https://localhost:8080/",
          "height": 513
        },
        "id": "WvsBcp2-_UzM",
        "outputId": "320547ed-cd20-4c67-be5e-796598e7422e"
      },
      "outputs": [
        {
          "output_type": "display_data",
          "data": {
            "image/png": "[encoded data removed]",
            "text/plain": [
              "<Figure size 720x576 with 2 Axes>"
            ]
          },
          "metadata": {
            "needs_background": "light"
          }
        }
      ],
      "source": [
        "plt.figure(figsize=(10, 8))\n",
        "plt.subplot(2, 1, 1)\n",
        "plt.plot(acc, label='Training Accuracy')\n",
        "plt.plot(val_acc, label='Validation Accuracy')\n",
        "plt.ylim([0, 1])\n",
        "plt.plot([model_history.epoch[-1],model_history.epoch[-1]],\n",
        "          plt.ylim(), label='Start Fine Tuning')\n",
        "plt.legend(loc='lower right')\n",
        "plt.title('Training and Validation Accuracy')\n",
        "\n",
        "plt.subplot(2, 1, 2)\n",
        "plt.plot(loss, label='Training Loss')\n",
        "plt.plot(val_loss, label='Validation Loss')\n",
        "plt.ylim([0, 2.0])\n",
        "plt.plot([model_history.epoch[-1],model_history.epoch[-1]],\n",
        "         plt.ylim(), label='Start Fine Tuning')\n",
        "plt.legend(loc='upper right')\n",
        "plt.title('Training and Validation Loss')\n",
        "plt.xlabel('epoch')\n",
        "plt.show()"
      ]
    },
    {
      "cell_type": "markdown",
      "metadata": {
        "id": "KZoMnolIAXs8"
      },
      "source": [
        "#Transfer learning with MobileNetV2"
      ]
    },
    {
      "cell_type": "code",
      "execution_count": 38,
      "metadata": {
        "id": "AskXp9UaAmnS"
      },
      "outputs": [],
      "source": [
        "from  tensorflow.keras.applications.mobilenet_v2 import MobileNetV2"
      ]
    },
    {
      "cell_type": "code",
      "execution_count": 39,
      "metadata": {
        "colab": {
          "base_uri": "https://localhost:8080/"
        },
        "id": "XSPMXRvuA1Lr",
        "outputId": "23d31ed7-5de7-412c-9cfb-12278df33ebb"
      },
      "outputs": [
        {
          "output_type": "stream",
          "name": "stdout",
          "text": [
            "WARNING:tensorflow:`input_shape` is undefined or non-square, or `rows` is not in [96, 128, 160, 192, 224]. Weights for input shape (224, 224) will be loaded as the default.\n",
            "Downloading data from https://storage.googleapis.com/tensorflow/keras-applications/mobilenet_v2/mobilenet_v2_weights_tf_dim_ordering_tf_kernels_1.0_224_no_top.h5\n",
            "9412608/9406464 [==============================] - 0s 0us/step\n",
            "9420800/9406464 [==============================] - 0s 0us/step\n"
          ]
        }
      ],
      "source": [
        "#initialise base model\n",
        "IMG_SHAPE = (124, 124, 3)\n",
        "\n",
        "base_model=  MobileNetV2(\n",
        "    weights='imagenet',\n",
        "    input_shape= IMG_SHAPE,\n",
        "    include_top=False)"
      ]
    },
    {
      "cell_type": "code",
      "execution_count": 40,
      "metadata": {
        "colab": {
          "base_uri": "https://localhost:8080/"
        },
        "id": "QGFMhWZSA_7D",
        "outputId": "2991584d-c9e4-4b74-eecd-07069edd15a2"
      },
      "outputs": [
        {
          "output_type": "stream",
          "name": "stdout",
          "text": [
            "Model: \"sequential_2\"\n",
            "_________________________________________________________________\n",
            " Layer (type)                Output Shape              Param #   \n",
            "=================================================================\n",
            " mobilenetv2_1.00_224 (Funct  (None, 4, 4, 1280)       2257984   \n",
            " ional)                                                          \n",
            "                                                                 \n",
            " global_average_pooling2d_1   (None, 1280)             0         \n",
            " (GlobalAveragePooling2D)                                        \n",
            "                                                                 \n",
            " dense_4 (Dense)             (None, 320)               409920    \n",
            "                                                                 \n",
            " dropout_2 (Dropout)         (None, 320)               0         \n",
            "                                                                 \n",
            " dense_5 (Dense)             (None, 12)                3852      \n",
            "                                                                 \n",
            "=================================================================\n",
            "Total params: 2,671,756\n",
            "Trainable params: 413,772\n",
            "Non-trainable params: 2,257,984\n",
            "_________________________________________________________________\n"
          ]
        }
      ],
      "source": [
        "base_model.trainable = False\n",
        "model = tf.keras.Sequential()\n",
        "model.add(base_model)\n",
        "model.add(tf.keras.layers.GlobalAveragePooling2D())\n",
        "model.add(tf.keras.layers.Dense(320, activation='relu'))\n",
        "model.add(tf.keras.layers.Dropout(0.2))\n",
        "model.add(tf.keras.layers.Dense(12, activation='sigmoid'))\n",
        "model.summary()"
      ]
    },
    {
      "cell_type": "code",
      "execution_count": 41,
      "metadata": {
        "id": "kBjchC4KBH1c"
      },
      "outputs": [],
      "source": [
        "# Compile the Model\n",
        "model.compile(optimizer=tf.keras.optimizers.Adam(learning_rate=0.001),\n",
        "    loss='categorical_crossentropy',\n",
        "    metrics = [tfa.metrics.F1Score(num_classes = 12,average = \"macro\",name = \"f1_score\")])"
      ]
    },
    {
      "cell_type": "code",
      "execution_count": 42,
      "metadata": {
        "id": "NSK_i0pXBQku"
      },
      "outputs": [],
      "source": [
        "file_path= '/content/drive/MyDrive/ P8_kaggle_competition/Best_basemodel_mobilenetV2.h5'\n",
        "\n",
        "checkpoint=ModelCheckpoint(file_path,\n",
        "                          monitor=\"val_f1_score\",\n",
        "                          mode='max',\n",
        "                          save_best_only=True,\n",
        "                          verbose=1)\n",
        "earlystop=EarlyStopping(monitor=\"val_f1_score\",mode='max',\n",
        "                       patience=5,\n",
        "                       verbose=1,\n",
        "                       restore_best_weights=True)\n",
        "\n",
        "callbacks=[checkpoint,earlystop]"
      ]
    },
    {
      "cell_type": "code",
      "execution_count": 43,
      "metadata": {
        "colab": {
          "base_uri": "https://localhost:8080/"
        },
        "id": "ccAitTIlBfBZ",
        "outputId": "e024babb-4d1e-486e-fecc-160ae46da9d3"
      },
      "outputs": [
        {
          "output_type": "stream",
          "name": "stdout",
          "text": [
            "Epoch 1/20\n",
            "9/9 [==============================] - ETA: 0s - loss: 3.0253 - f1_score: 0.1192\n",
            "Epoch 00001: val_f1_score improved from -inf to 0.05619, saving model to /content/drive/MyDrive/ P8_kaggle_competition/Best_basemodel_mobilenetV2.h5\n"
          ]
        },
        {
          "output_type": "stream",
          "name": "stderr",
          "text": [
            "/usr/local/lib/python3.7/dist-packages/keras/engine/functional.py:1410: CustomMaskWarning: Custom mask layers require a config and must override get_config. When loading, the custom mask layer must be passed to the custom_objects argument.\n",
            "  layer_config = serialize_layer_fn(layer)\n"
          ]
        },
        {
          "output_type": "stream",
          "name": "stdout",
          "text": [
            "\b\b\b\b\b\b\b\b\b\b\b\b\b\b\b\b\b\b\b\b\b\b\b\b\b\b\b\b\b\b\b\b\b\b\b\b\b\b\b\b\b\b\b\b\b\b\b\b\b\b\b\b\b\b\b\b\b\b\b\b\b\b\b\b\b\b\b\b\b\b\b\b\b\b\b\b\b\b\b\b\r9/9 [==============================] - 73s 8s/step - loss: 3.0253 - f1_score: 0.1192 - val_loss: 2.0811 - val_f1_score: 0.0562\n",
            "Epoch 2/20\n",
            "9/9 [==============================] - ETA: 0s - loss: 2.3297 - f1_score: 0.1651\n",
            "Epoch 00002: val_f1_score improved from 0.05619 to 0.17601, saving model to /content/drive/MyDrive/ P8_kaggle_competition/Best_basemodel_mobilenetV2.h5\n",
            "9/9 [==============================] - 60s 7s/step - loss: 2.3297 - f1_score: 0.1651 - val_loss: 2.0678 - val_f1_score: 0.1760\n",
            "Epoch 3/20\n",
            "9/9 [==============================] - ETA: 0s - loss: 1.9295 - f1_score: 0.2094\n",
            "Epoch 00003: val_f1_score improved from 0.17601 to 0.18003, saving model to /content/drive/MyDrive/ P8_kaggle_competition/Best_basemodel_mobilenetV2.h5\n",
            "9/9 [==============================] - 61s 7s/step - loss: 1.9295 - f1_score: 0.2094 - val_loss: 1.8130 - val_f1_score: 0.1800\n",
            "Epoch 4/20\n",
            "9/9 [==============================] - ETA: 0s - loss: 1.9433 - f1_score: 0.2200\n",
            "Epoch 00004: val_f1_score improved from 0.18003 to 0.20479, saving model to /content/drive/MyDrive/ P8_kaggle_competition/Best_basemodel_mobilenetV2.h5\n",
            "9/9 [==============================] - 62s 7s/step - loss: 1.9433 - f1_score: 0.2200 - val_loss: 1.8049 - val_f1_score: 0.2048\n",
            "Epoch 5/20\n",
            "9/9 [==============================] - ETA: 0s - loss: 1.9168 - f1_score: 0.2528\n",
            "Epoch 00005: val_f1_score did not improve from 0.20479\n",
            "9/9 [==============================] - 58s 7s/step - loss: 1.9168 - f1_score: 0.2528 - val_loss: 1.8566 - val_f1_score: 0.1904\n",
            "Epoch 6/20\n",
            "9/9 [==============================] - ETA: 0s - loss: 1.6967 - f1_score: 0.2589\n",
            "Epoch 00006: val_f1_score improved from 0.20479 to 0.25557, saving model to /content/drive/MyDrive/ P8_kaggle_competition/Best_basemodel_mobilenetV2.h5\n",
            "9/9 [==============================] - 60s 7s/step - loss: 1.6967 - f1_score: 0.2589 - val_loss: 1.5503 - val_f1_score: 0.2556\n",
            "Epoch 7/20\n",
            "9/9 [==============================] - ETA: 0s - loss: 1.7614 - f1_score: 0.2474\n",
            "Epoch 00007: val_f1_score did not improve from 0.25557\n",
            "9/9 [==============================] - 61s 7s/step - loss: 1.7614 - f1_score: 0.2474 - val_loss: 1.5682 - val_f1_score: 0.2462\n",
            "Epoch 8/20\n",
            "9/9 [==============================] - ETA: 0s - loss: 1.6826 - f1_score: 0.2630\n",
            "Epoch 00008: val_f1_score did not improve from 0.25557\n",
            "9/9 [==============================] - 60s 7s/step - loss: 1.6826 - f1_score: 0.2630 - val_loss: 1.9802 - val_f1_score: 0.1450\n",
            "Epoch 9/20\n",
            "9/9 [==============================] - ETA: 0s - loss: 1.7723 - f1_score: 0.2583\n",
            "Epoch 00009: val_f1_score did not improve from 0.25557\n",
            "9/9 [==============================] - 61s 7s/step - loss: 1.7723 - f1_score: 0.2583 - val_loss: 1.8028 - val_f1_score: 0.2359\n",
            "Epoch 10/20\n",
            "9/9 [==============================] - ETA: 0s - loss: 1.8004 - f1_score: 0.2650\n",
            "Epoch 00010: val_f1_score improved from 0.25557 to 0.26749, saving model to /content/drive/MyDrive/ P8_kaggle_competition/Best_basemodel_mobilenetV2.h5\n",
            "9/9 [==============================] - 65s 7s/step - loss: 1.8004 - f1_score: 0.2650 - val_loss: 1.7669 - val_f1_score: 0.2675\n",
            "Epoch 11/20\n",
            "9/9 [==============================] - ETA: 0s - loss: 1.7065 - f1_score: 0.2994\n",
            "Epoch 00011: val_f1_score did not improve from 0.26749\n",
            "9/9 [==============================] - 60s 7s/step - loss: 1.7065 - f1_score: 0.2994 - val_loss: 1.6460 - val_f1_score: 0.2185\n",
            "Epoch 12/20\n",
            "9/9 [==============================] - ETA: 0s - loss: 1.5973 - f1_score: 0.2737\n",
            "Epoch 00012: val_f1_score did not improve from 0.26749\n",
            "9/9 [==============================] - 61s 7s/step - loss: 1.5973 - f1_score: 0.2737 - val_loss: 1.7507 - val_f1_score: 0.1867\n",
            "Epoch 13/20\n",
            "9/9 [==============================] - ETA: 0s - loss: 1.5642 - f1_score: 0.3199\n",
            "Epoch 00013: val_f1_score improved from 0.26749 to 0.32110, saving model to /content/drive/MyDrive/ P8_kaggle_competition/Best_basemodel_mobilenetV2.h5\n",
            "9/9 [==============================] - 61s 7s/step - loss: 1.5642 - f1_score: 0.3199 - val_loss: 1.3712 - val_f1_score: 0.3211\n",
            "Epoch 14/20\n",
            "9/9 [==============================] - ETA: 0s - loss: 1.6358 - f1_score: 0.3415\n",
            "Epoch 00014: val_f1_score did not improve from 0.32110\n",
            "9/9 [==============================] - 62s 7s/step - loss: 1.6358 - f1_score: 0.3415 - val_loss: 1.4371 - val_f1_score: 0.2835\n",
            "Epoch 15/20\n",
            "9/9 [==============================] - ETA: 0s - loss: 1.6463 - f1_score: 0.3112\n",
            "Epoch 00015: val_f1_score did not improve from 0.32110\n",
            "9/9 [==============================] - 61s 7s/step - loss: 1.6463 - f1_score: 0.3112 - val_loss: 1.5806 - val_f1_score: 0.2603\n",
            "Epoch 16/20\n",
            "9/9 [==============================] - ETA: 0s - loss: 1.6033 - f1_score: 0.2965\n",
            "Epoch 00016: val_f1_score did not improve from 0.32110\n",
            "9/9 [==============================] - 60s 7s/step - loss: 1.6033 - f1_score: 0.2965 - val_loss: 1.6186 - val_f1_score: 0.2240\n",
            "Epoch 17/20\n",
            "9/9 [==============================] - ETA: 0s - loss: 1.6541 - f1_score: 0.3108\n",
            "Epoch 00017: val_f1_score did not improve from 0.32110\n",
            "9/9 [==============================] - 61s 7s/step - loss: 1.6541 - f1_score: 0.3108 - val_loss: 1.6694 - val_f1_score: 0.2592\n",
            "Epoch 18/20\n",
            "9/9 [==============================] - ETA: 0s - loss: 1.6758 - f1_score: 0.3014\n",
            "Epoch 00018: val_f1_score did not improve from 0.32110\n",
            "Restoring model weights from the end of the best epoch: 13.\n",
            "9/9 [==============================] - 61s 7s/step - loss: 1.6758 - f1_score: 0.3014 - val_loss: 1.8188 - val_f1_score: 0.2215\n",
            "Epoch 00018: early stopping\n",
            "Done in 1258.408s.\n"
          ]
        }
      ],
      "source": [
        "t0 = time()\n",
        "\n",
        "epochs = 20\n",
        "\n",
        "model_history= model.fit(train_ds,validation_data=val_ds,\n",
        "                         steps_per_epoch=train_ds.samples//128,\n",
        "                                 validation_steps=val_ds.samples//128,\n",
        "                                 epochs= epochs,\n",
        "                                 callbacks=callbacks)\n",
        "\n",
        "\n",
        "print(\"Done in %0.3fs.\" % (time() - t0))"
      ]
    },
    {
      "cell_type": "code",
      "execution_count": 44,
      "metadata": {
        "colab": {
          "base_uri": "https://localhost:8080/",
          "height": 513
        },
        "id": "dal2BvcqENJ2",
        "outputId": "b1a507ef-ea02-4800-d4e6-2e1294087fb4"
      },
      "outputs": [
        {
          "output_type": "display_data",
          "data": {
            "image/png": "[encoded data removed]",
            "text/plain": [
              "<Figure size 576x576 with 2 Axes>"
            ]
          },
          "metadata": {
            "needs_background": "light"
          }
        }
      ],
      "source": [
        "acc = model_history.history['f1_score']\n",
        "val_acc = model_history.history['val_f1_score']\n",
        "\n",
        "loss = model_history.history['loss']\n",
        "val_loss = model_history.history['val_loss']\n",
        "\n",
        "plt.figure(figsize=(8, 8))\n",
        "plt.subplot(2, 1, 1)\n",
        "plt.plot(acc, label='Training Accuracy')\n",
        "plt.plot(val_acc, label='Validation Accuracy')\n",
        "plt.legend(loc='upper right')\n",
        "plt.ylabel('Accuracy')\n",
        "plt.ylim([min(plt.ylim()),1])\n",
        "plt.title('Training and Validation Accuracy')\n",
        "\n",
        "plt.subplot(2, 1, 2)\n",
        "plt.plot(loss, label='Training Loss')\n",
        "plt.plot(val_loss, label='Validation Loss')\n",
        "plt.legend(loc='lower right')\n",
        "plt.ylabel('Cross Entropy')\n",
        "plt.ylim([0,2.0])\n",
        "plt.title('Training and Validation Loss')\n",
        "plt.xlabel('epoch')\n",
        "plt.show()"
      ]
    },
    {
      "cell_type": "markdown",
      "metadata": {
        "id": "9yU3ZOYoXBMP"
      },
      "source": [
        "##Fine-tunning"
      ]
    },
    {
      "cell_type": "code",
      "execution_count": 45,
      "metadata": {
        "id": "EGVx0gSwXGTB"
      },
      "outputs": [],
      "source": [
        "base_model.trainable = True"
      ]
    },
    {
      "cell_type": "code",
      "execution_count": 46,
      "metadata": {
        "colab": {
          "base_uri": "https://localhost:8080/"
        },
        "id": "9gALSVz7XGWh",
        "outputId": "07207807-a45b-47b8-a451-532a7c0de601"
      },
      "outputs": [
        {
          "output_type": "stream",
          "name": "stdout",
          "text": [
            "Number of layers in the base model:  154\n"
          ]
        }
      ],
      "source": [
        "print(\"Number of layers in the base model: \", len(base_model.layers))"
      ]
    },
    {
      "cell_type": "code",
      "execution_count": 47,
      "metadata": {
        "id": "O9-4AULlXGbJ"
      },
      "outputs": [],
      "source": [
        "fine_tune_at = 100\n",
        "\n",
        "# Freeze all the layers before the 'fine_tune_at' layer\n",
        "for layer in base_model.layers[:fine_tune_at]:\n",
        "  layer.trainable =  False"
      ]
    },
    {
      "cell_type": "code",
      "execution_count": 48,
      "metadata": {
        "id": "mf4Ozt3xXGeq"
      },
      "outputs": [],
      "source": [
        "file_path= '/content/drive/MyDrive/ P8_kaggle_competition/Best_model_mobilenetV2.h5'\n",
        "\n",
        "checkpoint=ModelCheckpoint(file_path,\n",
        "                          monitor=\"val_f1_score\",\n",
        "                          mode='max',\n",
        "                          save_best_only=True,\n",
        "                          verbose=1)\n",
        "earlystop=EarlyStopping(monitor=\"val_f1_score\",mode='max',\n",
        "                       patience=5,\n",
        "                       verbose=1,\n",
        "                       restore_best_weights=True)\n",
        "\n",
        "callbacks=[checkpoint,earlystop]"
      ]
    },
    {
      "cell_type": "code",
      "execution_count": 49,
      "metadata": {
        "id": "KgtsjG1Hha4L"
      },
      "outputs": [],
      "source": [
        "# Compile the Model\n",
        "model.compile(optimizer=tf.keras.optimizers.Adam(learning_rate=0.001),\n",
        "    loss='categorical_crossentropy',\n",
        "    metrics = [tfa.metrics.F1Score(num_classes = 12,average = \"macro\",name = \"f1_score\")])"
      ]
    },
    {
      "cell_type": "code",
      "execution_count": 50,
      "metadata": {
        "colab": {
          "base_uri": "https://localhost:8080/"
        },
        "id": "i6tAa7g-XGiz",
        "outputId": "a9d97a30-bfd9-419a-a6e0-061d92973539"
      },
      "outputs": [
        {
          "output_type": "stream",
          "name": "stdout",
          "text": [
            "Epoch 20/60\n",
            "9/9 [==============================] - ETA: 0s - loss: 2.1235 - f1_score: 0.1722\n",
            "Epoch 00020: val_f1_score improved from -inf to 0.11261, saving model to /content/drive/MyDrive/ P8_kaggle_competition/Best_model_mobilenetV2.h5\n"
          ]
        },
        {
          "output_type": "stream",
          "name": "stderr",
          "text": [
            "/usr/local/lib/python3.7/dist-packages/keras/engine/functional.py:1410: CustomMaskWarning: Custom mask layers require a config and must override get_config. When loading, the custom mask layer must be passed to the custom_objects argument.\n",
            "  layer_config = serialize_layer_fn(layer)\n"
          ]
        },
        {
          "output_type": "stream",
          "name": "stdout",
          "text": [
            "\b\b\b\b\b\b\b\b\b\b\b\b\b\b\b\b\b\b\b\b\b\b\b\b\b\b\b\b\b\b\b\b\b\b\b\b\b\b\b\b\b\b\b\b\b\b\b\b\b\b\b\b\b\b\b\b\b\b\b\b\b\b\b\b\b\b\b\b\b\b\b\b\b\b\b\b\b\b\b\b\r9/9 [==============================] - 75s 8s/step - loss: 2.1235 - f1_score: 0.1722 - val_loss: 6.9562 - val_f1_score: 0.1126\n",
            "Epoch 21/60\n",
            "9/9 [==============================] - ETA: 0s - loss: 1.8609 - f1_score: 0.2422\n",
            "Epoch 00021: val_f1_score did not improve from 0.11261\n",
            "9/9 [==============================] - 63s 7s/step - loss: 1.8609 - f1_score: 0.2422 - val_loss: 6.4952 - val_f1_score: 0.1109\n",
            "Epoch 22/60\n",
            "9/9 [==============================] - ETA: 0s - loss: 1.5744 - f1_score: 0.2802\n",
            "Epoch 00022: val_f1_score did not improve from 0.11261\n",
            "9/9 [==============================] - 62s 7s/step - loss: 1.5744 - f1_score: 0.2802 - val_loss: 6.4455 - val_f1_score: 0.0643\n",
            "Epoch 23/60\n",
            "9/9 [==============================] - ETA: 0s - loss: 1.6879 - f1_score: 0.2844\n",
            "Epoch 00023: val_f1_score improved from 0.11261 to 0.14835, saving model to /content/drive/MyDrive/ P8_kaggle_competition/Best_model_mobilenetV2.h5\n",
            "9/9 [==============================] - 64s 7s/step - loss: 1.6879 - f1_score: 0.2844 - val_loss: 3.4512 - val_f1_score: 0.1483\n",
            "Epoch 24/60\n",
            "9/9 [==============================] - ETA: 0s - loss: 1.4804 - f1_score: 0.3753\n",
            "Epoch 00024: val_f1_score improved from 0.14835 to 0.16020, saving model to /content/drive/MyDrive/ P8_kaggle_competition/Best_model_mobilenetV2.h5\n",
            "9/9 [==============================] - 65s 8s/step - loss: 1.4804 - f1_score: 0.3753 - val_loss: 4.4605 - val_f1_score: 0.1602\n",
            "Epoch 25/60\n",
            "9/9 [==============================] - ETA: 0s - loss: 1.5462 - f1_score: 0.3430\n",
            "Epoch 00025: val_f1_score did not improve from 0.16020\n",
            "9/9 [==============================] - 63s 7s/step - loss: 1.5462 - f1_score: 0.3430 - val_loss: 5.1562 - val_f1_score: 0.1020\n",
            "Epoch 26/60\n",
            "9/9 [==============================] - ETA: 0s - loss: 1.5680 - f1_score: 0.3596\n",
            "Epoch 00026: val_f1_score did not improve from 0.16020\n",
            "9/9 [==============================] - 64s 7s/step - loss: 1.5680 - f1_score: 0.3596 - val_loss: 6.2260 - val_f1_score: 0.0999\n",
            "Epoch 27/60\n",
            "9/9 [==============================] - ETA: 0s - loss: 1.4156 - f1_score: 0.3534\n",
            "Epoch 00027: val_f1_score did not improve from 0.16020\n",
            "9/9 [==============================] - 64s 7s/step - loss: 1.4156 - f1_score: 0.3534 - val_loss: 5.1444 - val_f1_score: 0.0796\n",
            "Epoch 28/60\n",
            "9/9 [==============================] - ETA: 0s - loss: 1.4324 - f1_score: 0.3575\n",
            "Epoch 00028: val_f1_score improved from 0.16020 to 0.18360, saving model to /content/drive/MyDrive/ P8_kaggle_competition/Best_model_mobilenetV2.h5\n",
            "9/9 [==============================] - 64s 7s/step - loss: 1.4324 - f1_score: 0.3575 - val_loss: 6.4834 - val_f1_score: 0.1836\n",
            "Epoch 29/60\n",
            "9/9 [==============================] - ETA: 0s - loss: 1.3876 - f1_score: 0.3800\n",
            "Epoch 00029: val_f1_score improved from 0.18360 to 0.20224, saving model to /content/drive/MyDrive/ P8_kaggle_competition/Best_model_mobilenetV2.h5\n",
            "9/9 [==============================] - 64s 7s/step - loss: 1.3876 - f1_score: 0.3800 - val_loss: 5.5993 - val_f1_score: 0.2022\n",
            "Epoch 30/60\n",
            "9/9 [==============================] - ETA: 0s - loss: 1.4261 - f1_score: 0.3447\n",
            "Epoch 00030: val_f1_score did not improve from 0.20224\n",
            "9/9 [==============================] - 64s 7s/step - loss: 1.4261 - f1_score: 0.3447 - val_loss: 4.9975 - val_f1_score: 0.1438\n",
            "Epoch 31/60\n",
            "9/9 [==============================] - ETA: 0s - loss: 1.2799 - f1_score: 0.4440\n",
            "Epoch 00031: val_f1_score did not improve from 0.20224\n",
            "9/9 [==============================] - 63s 7s/step - loss: 1.2799 - f1_score: 0.4440 - val_loss: 8.6931 - val_f1_score: 0.1422\n",
            "Epoch 32/60\n",
            "9/9 [==============================] - ETA: 0s - loss: 1.3328 - f1_score: 0.4115\n",
            "Epoch 00032: val_f1_score did not improve from 0.20224\n",
            "9/9 [==============================] - 64s 7s/step - loss: 1.3328 - f1_score: 0.4115 - val_loss: 7.2359 - val_f1_score: 0.1529\n",
            "Epoch 33/60\n",
            "9/9 [==============================] - ETA: 0s - loss: 1.2903 - f1_score: 0.3606\n",
            "Epoch 00033: val_f1_score did not improve from 0.20224\n",
            "9/9 [==============================] - 62s 7s/step - loss: 1.2903 - f1_score: 0.3606 - val_loss: 9.7354 - val_f1_score: 0.0987\n",
            "Epoch 34/60\n",
            "9/9 [==============================] - ETA: 0s - loss: 1.1165 - f1_score: 0.4626\n",
            "Epoch 00034: val_f1_score did not improve from 0.20224\n",
            "Restoring model weights from the end of the best epoch: 29.\n",
            "9/9 [==============================] - 64s 7s/step - loss: 1.1165 - f1_score: 0.4626 - val_loss: 9.4670 - val_f1_score: 0.1480\n",
            "Epoch 00034: early stopping\n",
            "Done in 1097.051s.\n"
          ]
        }
      ],
      "source": [
        "t0 = time()\n",
        "\n",
        "fine_tune_epochs = 40\n",
        "total_epochs =  20 + fine_tune_epochs\n",
        "\n",
        "model_history_fine = model.fit(train_ds,validation_data=val_ds,\n",
        "                         steps_per_epoch=train_ds.samples//128,\n",
        "                                 validation_steps=val_ds.samples//128,\n",
        "                                 epochs= total_epochs,\n",
        "                         initial_epoch=19, #model_history.epoch[-1],\n",
        "                                 callbacks=callbacks)\n",
        "\n",
        "\n",
        "print(\"Done in %0.3fs.\" % (time() - t0))"
      ]
    },
    {
      "cell_type": "code",
      "execution_count": 51,
      "metadata": {
        "colab": {
          "base_uri": "https://localhost:8080/",
          "height": 513
        },
        "id": "Ty0qoFjj8OzI",
        "outputId": "cad591bd-1ab9-411a-b23b-ee6b43ddb0df"
      },
      "outputs": [
        {
          "output_type": "display_data",
          "data": {
            "image/png": "[encoded data removed]",
            "text/plain": [
              "<Figure size 576x576 with 2 Axes>"
            ]
          },
          "metadata": {
            "needs_background": "light"
          }
        }
      ],
      "source": [
        "acc += model_history_fine.history['f1_score']\n",
        "val_acc += model_history_fine.history['val_f1_score']\n",
        "\n",
        "loss += model_history_fine.history['loss']\n",
        "val_loss += model_history_fine.history['val_loss']\n",
        "\n",
        "plt.figure(figsize=(8, 8))\n",
        "plt.subplot(2, 1, 1)\n",
        "plt.plot(acc, label='Training Accuracy')\n",
        "plt.plot(val_acc, label='Validation Accuracy')\n",
        "plt.legend(loc='upper right')\n",
        "plt.ylabel('Accuracy')\n",
        "plt.ylim([min(plt.ylim()),1])\n",
        "plt.title('Training and Validation Accuracy')\n",
        "\n",
        "plt.subplot(2, 1, 2)\n",
        "plt.plot(loss, label='Training Loss')\n",
        "plt.plot(val_loss, label='Validation Loss')\n",
        "plt.legend(loc='lower right')\n",
        "plt.ylabel('Cross Entropy')\n",
        "plt.ylim([0,3.0])\n",
        "plt.title('Training and Validation Loss')\n",
        "plt.xlabel('epoch')\n",
        "plt.show()"
      ]
    },
    {
      "cell_type": "markdown",
      "source": [
        "#Transfer learning with Resnet"
      ],
      "metadata": {
        "id": "tYlAmojaOeTz"
      }
    },
    {
      "cell_type": "code",
      "source": [
        "from  tensorflow.keras.applications import ResNet101"
      ],
      "metadata": {
        "id": "2mU38ghQO5rj"
      },
      "execution_count": 52,
      "outputs": []
    },
    {
      "cell_type": "code",
      "source": [
        "#initialise base model\n",
        "IMG_SHAPE = (124, 124, 3)\n",
        "\n",
        "base_model=  ResNet101(\n",
        "    weights='imagenet',\n",
        "    input_shape= IMG_SHAPE,\n",
        "    include_top=False)"
      ],
      "metadata": {
        "id": "mO7blu36O_NZ",
        "colab": {
          "base_uri": "https://localhost:8080/"
        },
        "outputId": "fdcf9c5c-756c-4065-b6be-04354954d2b1"
      },
      "execution_count": 53,
      "outputs": [
        {
          "output_type": "stream",
          "name": "stdout",
          "text": [
            "Downloading data from https://storage.googleapis.com/tensorflow/keras-applications/resnet/resnet101_weights_tf_dim_ordering_tf_kernels_notop.h5\n",
            "171450368/171446536 [==============================] - 2s 0us/step\n",
            "171458560/171446536 [==============================] - 2s 0us/step\n"
          ]
        }
      ]
    },
    {
      "cell_type": "code",
      "source": [
        "base_model.trainable = False\n",
        "model = tf.keras.Sequential()\n",
        "model.add(base_model)\n",
        "model.add(tf.keras.layers.GlobalAveragePooling2D())\n",
        "model.add(tf.keras.layers.Dense(320, activation='relu'))\n",
        "model.add(tf.keras.layers.Dropout(0.2))\n",
        "model.add(tf.keras.layers.Dense(12, activation='sigmoid'))\n",
        "model.summary()"
      ],
      "metadata": {
        "colab": {
          "base_uri": "https://localhost:8080/"
        },
        "id": "u6c7UoLKPE58",
        "outputId": "c4b757d0-281f-444a-b11a-850759789381"
      },
      "execution_count": 54,
      "outputs": [
        {
          "output_type": "stream",
          "name": "stdout",
          "text": [
            "Model: \"sequential_3\"\n",
            "_________________________________________________________________\n",
            " Layer (type)                Output Shape              Param #   \n",
            "=================================================================\n",
            " resnet101 (Functional)      (None, 4, 4, 2048)        42658176  \n",
            "                                                                 \n",
            " global_average_pooling2d_2   (None, 2048)             0         \n",
            " (GlobalAveragePooling2D)                                        \n",
            "                                                                 \n",
            " dense_6 (Dense)             (None, 320)               655680    \n",
            "                                                                 \n",
            " dropout_3 (Dropout)         (None, 320)               0         \n",
            "                                                                 \n",
            " dense_7 (Dense)             (None, 12)                3852      \n",
            "                                                                 \n",
            "=================================================================\n",
            "Total params: 43,317,708\n",
            "Trainable params: 659,532\n",
            "Non-trainable params: 42,658,176\n",
            "_________________________________________________________________\n"
          ]
        }
      ]
    },
    {
      "cell_type": "code",
      "source": [
        "# Compile the Model\n",
        "model.compile(optimizer=tf.keras.optimizers.Adam(learning_rate=0.001),\n",
        "    loss='categorical_crossentropy',\n",
        "    metrics = [tfa.metrics.F1Score(num_classes = 12,average = \"macro\",name = \"f1_score\")])"
      ],
      "metadata": {
        "id": "RkQ8A0pqPLNq"
      },
      "execution_count": 55,
      "outputs": []
    },
    {
      "cell_type": "code",
      "source": [
        "file_path= '/content/drive/MyDrive/ P8_kaggle_competition/Best_basemodel_resnet101.h5'\n",
        "\n",
        "checkpoint=ModelCheckpoint(file_path,\n",
        "                          monitor=\"val_f1_score\",\n",
        "                          mode='max',\n",
        "                          save_best_only=True,\n",
        "                          verbose=1)\n",
        "earlystop=EarlyStopping(monitor=\"val_f1_score\",mode='max',\n",
        "                       patience=5,\n",
        "                       verbose=1,\n",
        "                       restore_best_weights=True)\n",
        "\n",
        "callbacks=[checkpoint,earlystop]"
      ],
      "metadata": {
        "id": "ViADO7KUPVTi"
      },
      "execution_count": 56,
      "outputs": []
    },
    {
      "cell_type": "code",
      "source": [
        "t0 = time()\n",
        "\n",
        "epochs = 20\n",
        "\n",
        "model_history= model.fit(train_ds,validation_data=val_ds,\n",
        "                         steps_per_epoch=train_ds.samples//128,\n",
        "                                 validation_steps=val_ds.samples//128,\n",
        "                                 epochs= epochs,\n",
        "                                 callbacks=callbacks)\n",
        "\n",
        "\n",
        "print(\"Done in %0.3fs.\" % (time() - t0))"
      ],
      "metadata": {
        "colab": {
          "base_uri": "https://localhost:8080/"
        },
        "id": "WHWhKeWUQiPm",
        "outputId": "7cd01ae3-48f0-4218-c26a-9e94d51bd92c"
      },
      "execution_count": 57,
      "outputs": [
        {
          "output_type": "stream",
          "name": "stdout",
          "text": [
            "Epoch 1/20\n",
            "9/9 [==============================] - ETA: 0s - loss: 2.4392 - f1_score: 0.0589\n",
            "Epoch 00001: val_f1_score improved from -inf to 0.01471, saving model to /content/drive/MyDrive/ P8_kaggle_competition/Best_basemodel_resnet101.h5\n"
          ]
        },
        {
          "output_type": "stream",
          "name": "stderr",
          "text": [
            "/usr/local/lib/python3.7/dist-packages/keras/engine/functional.py:1410: CustomMaskWarning: Custom mask layers require a config and must override get_config. When loading, the custom mask layer must be passed to the custom_objects argument.\n",
            "  layer_config = serialize_layer_fn(layer)\n"
          ]
        },
        {
          "output_type": "stream",
          "name": "stdout",
          "text": [
            "\b\b\b\b\b\b\b\b\b\b\b\b\b\b\b\b\b\b\b\b\b\b\b\b\b\b\b\b\b\b\b\b\b\b\b\b\b\b\b\b\b\b\b\b\b\b\b\b\b\b\b\b\b\b\b\b\b\b\b\b\b\b\b\b\b\b\b\b\b\b\b\b\b\b\b\b\b\b\b\b\r9/9 [==============================] - 104s 11s/step - loss: 2.4392 - f1_score: 0.0589 - val_loss: 2.3896 - val_f1_score: 0.0147\n",
            "Epoch 2/20\n",
            "9/9 [==============================] - ETA: 0s - loss: 2.3303 - f1_score: 0.0586\n",
            "Epoch 00002: val_f1_score did not improve from 0.01471\n",
            "9/9 [==============================] - 84s 9s/step - loss: 2.3303 - f1_score: 0.0586 - val_loss: 2.2866 - val_f1_score: 0.0031\n",
            "Epoch 3/20\n",
            "9/9 [==============================] - ETA: 0s - loss: 2.2925 - f1_score: 0.0659\n",
            "Epoch 00003: val_f1_score improved from 0.01471 to 0.03307, saving model to /content/drive/MyDrive/ P8_kaggle_competition/Best_basemodel_resnet101.h5\n",
            "9/9 [==============================] - 87s 10s/step - loss: 2.2925 - f1_score: 0.0659 - val_loss: 2.3191 - val_f1_score: 0.0331\n",
            "Epoch 4/20\n",
            "9/9 [==============================] - ETA: 0s - loss: 2.3039 - f1_score: 0.0719\n",
            "Epoch 00004: val_f1_score did not improve from 0.03307\n",
            "9/9 [==============================] - 83s 9s/step - loss: 2.3039 - f1_score: 0.0719 - val_loss: 2.3144 - val_f1_score: 0.0324\n",
            "Epoch 5/20\n",
            "9/9 [==============================] - ETA: 0s - loss: 2.2895 - f1_score: 0.0463\n",
            "Epoch 00005: val_f1_score improved from 0.03307 to 0.06174, saving model to /content/drive/MyDrive/ P8_kaggle_competition/Best_basemodel_resnet101.h5\n",
            "9/9 [==============================] - 90s 10s/step - loss: 2.2895 - f1_score: 0.0463 - val_loss: 2.2285 - val_f1_score: 0.0617\n",
            "Epoch 6/20\n",
            "9/9 [==============================] - ETA: 0s - loss: 2.3263 - f1_score: 0.0722\n",
            "Epoch 00006: val_f1_score did not improve from 0.06174\n",
            "9/9 [==============================] - 84s 9s/step - loss: 2.3263 - f1_score: 0.0722 - val_loss: 2.2406 - val_f1_score: 0.0100\n",
            "Epoch 7/20\n",
            "9/9 [==============================] - ETA: 0s - loss: 2.2783 - f1_score: 0.0907\n",
            "Epoch 00007: val_f1_score did not improve from 0.06174\n",
            "9/9 [==============================] - 83s 9s/step - loss: 2.2783 - f1_score: 0.0907 - val_loss: 2.2293 - val_f1_score: 0.0177\n",
            "Epoch 8/20\n",
            "9/9 [==============================] - ETA: 0s - loss: 2.2352 - f1_score: 0.0496\n",
            "Epoch 00008: val_f1_score did not improve from 0.06174\n",
            "9/9 [==============================] - 84s 9s/step - loss: 2.2352 - f1_score: 0.0496 - val_loss: 2.2763 - val_f1_score: 0.0075\n",
            "Epoch 9/20\n",
            "9/9 [==============================] - ETA: 0s - loss: 2.2724 - f1_score: 0.0680\n",
            "Epoch 00009: val_f1_score did not improve from 0.06174\n",
            "9/9 [==============================] - 83s 9s/step - loss: 2.2724 - f1_score: 0.0680 - val_loss: 2.2828 - val_f1_score: 0.0179\n",
            "Epoch 10/20\n",
            "9/9 [==============================] - ETA: 0s - loss: 2.3094 - f1_score: 0.0644\n",
            "Epoch 00010: val_f1_score did not improve from 0.06174\n",
            "Restoring model weights from the end of the best epoch: 5.\n",
            "9/9 [==============================] - 84s 9s/step - loss: 2.3094 - f1_score: 0.0644 - val_loss: 2.1389 - val_f1_score: 0.0344\n",
            "Epoch 00010: early stopping\n",
            "Done in 1204.397s.\n"
          ]
        }
      ]
    },
    {
      "cell_type": "code",
      "source": [
        "acc = model_history.history['f1_score']\n",
        "val_acc = model_history.history['val_f1_score']\n",
        "\n",
        "loss = model_history.history['loss']\n",
        "val_loss = model_history.history['val_loss']\n",
        "\n",
        "plt.figure(figsize=(8, 8))\n",
        "plt.subplot(2, 1, 1)\n",
        "plt.plot(acc, label='Training Accuracy')\n",
        "plt.plot(val_acc, label='Validation Accuracy')\n",
        "plt.legend(loc='upper right')\n",
        "plt.ylabel('Accuracy')\n",
        "plt.ylim([min(plt.ylim()),1])\n",
        "plt.title('Training and Validation Accuracy')\n",
        "\n",
        "plt.subplot(2, 1, 2)\n",
        "plt.plot(loss, label='Training Loss')\n",
        "plt.plot(val_loss, label='Validation Loss')\n",
        "plt.legend(loc='lower right')\n",
        "plt.ylabel('Cross Entropy')\n",
        "plt.ylim([0,2.0])\n",
        "plt.title('Training and Validation Loss')\n",
        "plt.xlabel('epoch')\n",
        "plt.show()"
      ],
      "metadata": {
        "id": "ow1TuWJfQkbU",
        "colab": {
          "base_uri": "https://localhost:8080/",
          "height": 513
        },
        "outputId": "a8326b9a-f4cd-44ba-def6-a9aa66f44bc5"
      },
      "execution_count": 58,
      "outputs": [
        {
          "output_type": "display_data",
          "data": {
            "image/png": "[encoded data removed]",
            "text/plain": [
              "<Figure size 576x576 with 2 Axes>"
            ]
          },
          "metadata": {
            "needs_background": "light"
          }
        }
      ]
    },
    {
      "cell_type": "markdown",
      "source": [
        "##Fine-tunning"
      ],
      "metadata": {
        "id": "05HbMsoGQwqX"
      }
    },
    {
      "cell_type": "code",
      "source": [
        "base_model.trainable = True"
      ],
      "metadata": {
        "id": "IZbU_RNqQ2b1"
      },
      "execution_count": 59,
      "outputs": []
    },
    {
      "cell_type": "code",
      "source": [
        "print(\"Number of layers in the base model: \", len(base_model.layers))"
      ],
      "metadata": {
        "id": "sOrhKDiOQ6-W",
        "colab": {
          "base_uri": "https://localhost:8080/"
        },
        "outputId": "895c5e8b-5773-4894-9d3f-13216829ae5b"
      },
      "execution_count": 60,
      "outputs": [
        {
          "output_type": "stream",
          "name": "stdout",
          "text": [
            "Number of layers in the base model:  345\n"
          ]
        }
      ]
    },
    {
      "cell_type": "code",
      "source": [
        "fine_tune_at = 345\n",
        "\n",
        "# Freeze all the layers before the 'fine_tune_at' layer\n",
        "for layer in base_model.layers[:fine_tune_at]:\n",
        "  layer.trainable =  False"
      ],
      "metadata": {
        "id": "K7feX_BwQ_1Y"
      },
      "execution_count": 61,
      "outputs": []
    },
    {
      "cell_type": "code",
      "source": [
        "file_path= '/content/drive/MyDrive/ P8_kaggle_competition/Best_model_resnet101.h5'\n",
        "\n",
        "checkpoint=ModelCheckpoint(file_path,\n",
        "                          monitor=\"val_f1_score\",\n",
        "                          mode='max',\n",
        "                          save_best_only=True,\n",
        "                          verbose=1)\n",
        "earlystop=EarlyStopping(monitor=\"val_f1_score\",mode='max',\n",
        "                       patience=5,\n",
        "                       verbose=1,\n",
        "                       restore_best_weights=True)\n",
        "\n",
        "callbacks=[checkpoint,earlystop]"
      ],
      "metadata": {
        "id": "8fjDm6bFQ_7G"
      },
      "execution_count": 62,
      "outputs": []
    },
    {
      "cell_type": "code",
      "source": [
        "# Compile the Model\n",
        "model.compile(optimizer=tf.keras.optimizers.Adam(learning_rate=0.001),\n",
        "    loss='categorical_crossentropy',\n",
        "    metrics = [tfa.metrics.F1Score(num_classes = 12,average = \"macro\",name = \"f1_score\")])"
      ],
      "metadata": {
        "id": "JmLazWJdRAAy"
      },
      "execution_count": 63,
      "outputs": []
    },
    {
      "cell_type": "code",
      "source": [
        "t0 = time()\n",
        "\n",
        "fine_tune_epochs = 40\n",
        "total_epochs =  20 + fine_tune_epochs\n",
        "\n",
        "model_history_fine = model.fit(train_ds,validation_data=val_ds,\n",
        "                         steps_per_epoch=train_ds.samples//128,\n",
        "                                 validation_steps=val_ds.samples//128,\n",
        "                                 epochs= total_epochs,\n",
        "                         initial_epoch=model_history.epoch[-1],\n",
        "                                 callbacks=callbacks)\n",
        "\n",
        "\n",
        "print(\"Done in %0.3fs.\" % (time() - t0))"
      ],
      "metadata": {
        "id": "nO5fRbuGRhlo",
        "colab": {
          "base_uri": "https://localhost:8080/",
          "height": 799
        },
        "outputId": "405beb59-7ac1-4bb8-b562-33907cff84c0"
      },
      "execution_count": 64,
      "outputs": [
        {
          "output_type": "stream",
          "name": "stdout",
          "text": [
            "Epoch 10/60\n",
            "9/9 [==============================] - ETA: 0s - loss: 2.3102 - f1_score: 0.0578\n",
            "Epoch 00010: val_f1_score improved from -inf to 0.03865, saving model to /content/drive/MyDrive/ P8_kaggle_competition/Best_model_resnet101.h5\n"
          ]
        },
        {
          "output_type": "stream",
          "name": "stderr",
          "text": [
            "/usr/local/lib/python3.7/dist-packages/keras/engine/functional.py:1410: CustomMaskWarning: Custom mask layers require a config and must override get_config. When loading, the custom mask layer must be passed to the custom_objects argument.\n",
            "  layer_config = serialize_layer_fn(layer)\n"
          ]
        },
        {
          "output_type": "stream",
          "name": "stdout",
          "text": [
            "\b\b\b\b\b\b\b\b\b\b\b\b\b\b\b\b\b\b\b\b\b\b\b\b\b\b\b\b\b\b\b\b\b\b\b\b\b\b\b\b\b\b\b\b\b\b\b\b\b\b\b\b\b\b\b\b\b\b\b\b\b\b\b\b\b\b\b\b\b\b\b\b\b\b\b\b\b\b\b\b\r9/9 [==============================] - 103s 11s/step - loss: 2.3102 - f1_score: 0.0578 - val_loss: 2.4155 - val_f1_score: 0.0386\n",
            "Epoch 11/60\n",
            "9/9 [==============================] - ETA: 0s - loss: 2.3092 - f1_score: 0.0676\n",
            "Epoch 00011: val_f1_score did not improve from 0.03865\n",
            "9/9 [==============================] - 86s 9s/step - loss: 2.3092 - f1_score: 0.0676 - val_loss: 2.3567 - val_f1_score: 0.0029\n",
            "Epoch 12/60\n",
            "9/9 [==============================] - ETA: 0s - loss: 2.2901 - f1_score: 0.0582\n",
            "Epoch 00012: val_f1_score improved from 0.03865 to 0.05028, saving model to /content/drive/MyDrive/ P8_kaggle_competition/Best_model_resnet101.h5\n",
            "9/9 [==============================] - 88s 10s/step - loss: 2.2901 - f1_score: 0.0582 - val_loss: 2.1846 - val_f1_score: 0.0503\n",
            "Epoch 13/60\n",
            "9/9 [==============================] - ETA: 0s - loss: 2.2895 - f1_score: 0.0579\n",
            "Epoch 00013: val_f1_score did not improve from 0.05028\n",
            "9/9 [==============================] - 84s 10s/step - loss: 2.2895 - f1_score: 0.0579 - val_loss: 2.1263 - val_f1_score: 0.0150\n",
            "Epoch 14/60\n",
            "9/9 [==============================] - ETA: 0s - loss: 2.2797 - f1_score: 0.0714\n",
            "Epoch 00014: val_f1_score did not improve from 0.05028\n",
            "9/9 [==============================] - 85s 9s/step - loss: 2.2797 - f1_score: 0.0714 - val_loss: 2.3651 - val_f1_score: 0.0030\n",
            "Epoch 15/60\n"
          ]
        },
        {
          "output_type": "error",
          "ename": "KeyboardInterrupt",
          "evalue": "ignored",
          "traceback": [
            "\u001b[0;31m---------------------------------------------------------------------------\u001b[0m",
            "\u001b[0;31mKeyboardInterrupt\u001b[0m                         Traceback (most recent call last)",
            "\u001b[0;32m<ipython-input-64-5d392d2f2cbd>\u001b[0m in \u001b[0;36m<module>\u001b[0;34m()\u001b[0m\n\u001b[1;32m      9\u001b[0m                                  \u001b[0mepochs\u001b[0m\u001b[0;34m=\u001b[0m \u001b[0mtotal_epochs\u001b[0m\u001b[0;34m,\u001b[0m\u001b[0;34m\u001b[0m\u001b[0;34m\u001b[0m\u001b[0m\n\u001b[1;32m     10\u001b[0m                          \u001b[0minitial_epoch\u001b[0m\u001b[0;34m=\u001b[0m\u001b[0mmodel_history\u001b[0m\u001b[0;34m.\u001b[0m\u001b[0mepoch\u001b[0m\u001b[0;34m[\u001b[0m\u001b[0;34m-\u001b[0m\u001b[0;36m1\u001b[0m\u001b[0;34m]\u001b[0m\u001b[0;34m,\u001b[0m\u001b[0;34m\u001b[0m\u001b[0;34m\u001b[0m\u001b[0m\n\u001b[0;32m---> 11\u001b[0;31m                                  callbacks=callbacks)\n\u001b[0m\u001b[1;32m     12\u001b[0m \u001b[0;34m\u001b[0m\u001b[0m\n\u001b[1;32m     13\u001b[0m \u001b[0;34m\u001b[0m\u001b[0m\n",
            "\u001b[0;32m/usr/local/lib/python3.7/dist-packages/keras/utils/traceback_utils.py\u001b[0m in \u001b[0;36merror_handler\u001b[0;34m(*args, **kwargs)\u001b[0m\n\u001b[1;32m     62\u001b[0m     \u001b[0mfiltered_tb\u001b[0m \u001b[0;34m=\u001b[0m \u001b[0;32mNone\u001b[0m\u001b[0;34m\u001b[0m\u001b[0;34m\u001b[0m\u001b[0m\n\u001b[1;32m     63\u001b[0m     \u001b[0;32mtry\u001b[0m\u001b[0;34m:\u001b[0m\u001b[0;34m\u001b[0m\u001b[0;34m\u001b[0m\u001b[0m\n\u001b[0;32m---> 64\u001b[0;31m       \u001b[0;32mreturn\u001b[0m \u001b[0mfn\u001b[0m\u001b[0;34m(\u001b[0m\u001b[0;34m*\u001b[0m\u001b[0margs\u001b[0m\u001b[0;34m,\u001b[0m \u001b[0;34m**\u001b[0m\u001b[0mkwargs\u001b[0m\u001b[0;34m)\u001b[0m\u001b[0;34m\u001b[0m\u001b[0;34m\u001b[0m\u001b[0m\n\u001b[0m\u001b[1;32m     65\u001b[0m     \u001b[0;32mexcept\u001b[0m \u001b[0mException\u001b[0m \u001b[0;32mas\u001b[0m \u001b[0me\u001b[0m\u001b[0;34m:\u001b[0m  \u001b[0;31m# pylint: disable=broad-except\u001b[0m\u001b[0;34m\u001b[0m\u001b[0;34m\u001b[0m\u001b[0m\n\u001b[1;32m     66\u001b[0m       \u001b[0mfiltered_tb\u001b[0m \u001b[0;34m=\u001b[0m \u001b[0m_process_traceback_frames\u001b[0m\u001b[0;34m(\u001b[0m\u001b[0me\u001b[0m\u001b[0;34m.\u001b[0m\u001b[0m__traceback__\u001b[0m\u001b[0;34m)\u001b[0m\u001b[0;34m\u001b[0m\u001b[0;34m\u001b[0m\u001b[0m\n",
            "\u001b[0;32m/usr/local/lib/python3.7/dist-packages/keras/engine/training.py\u001b[0m in \u001b[0;36mfit\u001b[0;34m(self, x, y, batch_size, epochs, verbose, callbacks, validation_split, validation_data, shuffle, class_weight, sample_weight, initial_epoch, steps_per_epoch, validation_steps, validation_batch_size, validation_freq, max_queue_size, workers, use_multiprocessing)\u001b[0m\n\u001b[1;32m   1214\u001b[0m                 _r=1):\n\u001b[1;32m   1215\u001b[0m               \u001b[0mcallbacks\u001b[0m\u001b[0;34m.\u001b[0m\u001b[0mon_train_batch_begin\u001b[0m\u001b[0;34m(\u001b[0m\u001b[0mstep\u001b[0m\u001b[0;34m)\u001b[0m\u001b[0;34m\u001b[0m\u001b[0;34m\u001b[0m\u001b[0m\n\u001b[0;32m-> 1216\u001b[0;31m               \u001b[0mtmp_logs\u001b[0m \u001b[0;34m=\u001b[0m \u001b[0mself\u001b[0m\u001b[0;34m.\u001b[0m\u001b[0mtrain_function\u001b[0m\u001b[0;34m(\u001b[0m\u001b[0miterator\u001b[0m\u001b[0;34m)\u001b[0m\u001b[0;34m\u001b[0m\u001b[0;34m\u001b[0m\u001b[0m\n\u001b[0m\u001b[1;32m   1217\u001b[0m               \u001b[0;32mif\u001b[0m \u001b[0mdata_handler\u001b[0m\u001b[0;34m.\u001b[0m\u001b[0mshould_sync\u001b[0m\u001b[0;34m:\u001b[0m\u001b[0;34m\u001b[0m\u001b[0;34m\u001b[0m\u001b[0m\n\u001b[1;32m   1218\u001b[0m                 \u001b[0mcontext\u001b[0m\u001b[0;34m.\u001b[0m\u001b[0masync_wait\u001b[0m\u001b[0;34m(\u001b[0m\u001b[0;34m)\u001b[0m\u001b[0;34m\u001b[0m\u001b[0;34m\u001b[0m\u001b[0m\n",
            "\u001b[0;32m/usr/local/lib/python3.7/dist-packages/tensorflow/python/util/traceback_utils.py\u001b[0m in \u001b[0;36merror_handler\u001b[0;34m(*args, **kwargs)\u001b[0m\n\u001b[1;32m    148\u001b[0m     \u001b[0mfiltered_tb\u001b[0m \u001b[0;34m=\u001b[0m \u001b[0;32mNone\u001b[0m\u001b[0;34m\u001b[0m\u001b[0;34m\u001b[0m\u001b[0m\n\u001b[1;32m    149\u001b[0m     \u001b[0;32mtry\u001b[0m\u001b[0;34m:\u001b[0m\u001b[0;34m\u001b[0m\u001b[0;34m\u001b[0m\u001b[0m\n\u001b[0;32m--> 150\u001b[0;31m       \u001b[0;32mreturn\u001b[0m \u001b[0mfn\u001b[0m\u001b[0;34m(\u001b[0m\u001b[0;34m*\u001b[0m\u001b[0margs\u001b[0m\u001b[0;34m,\u001b[0m \u001b[0;34m**\u001b[0m\u001b[0mkwargs\u001b[0m\u001b[0;34m)\u001b[0m\u001b[0;34m\u001b[0m\u001b[0;34m\u001b[0m\u001b[0m\n\u001b[0m\u001b[1;32m    151\u001b[0m     \u001b[0;32mexcept\u001b[0m \u001b[0mException\u001b[0m \u001b[0;32mas\u001b[0m \u001b[0me\u001b[0m\u001b[0;34m:\u001b[0m\u001b[0;34m\u001b[0m\u001b[0;34m\u001b[0m\u001b[0m\n\u001b[1;32m    152\u001b[0m       \u001b[0mfiltered_tb\u001b[0m \u001b[0;34m=\u001b[0m \u001b[0m_process_traceback_frames\u001b[0m\u001b[0;34m(\u001b[0m\u001b[0me\u001b[0m\u001b[0;34m.\u001b[0m\u001b[0m__traceback__\u001b[0m\u001b[0;34m)\u001b[0m\u001b[0;34m\u001b[0m\u001b[0;34m\u001b[0m\u001b[0m\n",
            "\u001b[0;32m/usr/local/lib/python3.7/dist-packages/tensorflow/python/eager/def_function.py\u001b[0m in \u001b[0;36m__call__\u001b[0;34m(self, *args, **kwds)\u001b[0m\n\u001b[1;32m    908\u001b[0m \u001b[0;34m\u001b[0m\u001b[0m\n\u001b[1;32m    909\u001b[0m       \u001b[0;32mwith\u001b[0m \u001b[0mOptionalXlaContext\u001b[0m\u001b[0;34m(\u001b[0m\u001b[0mself\u001b[0m\u001b[0;34m.\u001b[0m\u001b[0m_jit_compile\u001b[0m\u001b[0;34m)\u001b[0m\u001b[0;34m:\u001b[0m\u001b[0;34m\u001b[0m\u001b[0;34m\u001b[0m\u001b[0m\n\u001b[0;32m--> 910\u001b[0;31m         \u001b[0mresult\u001b[0m \u001b[0;34m=\u001b[0m \u001b[0mself\u001b[0m\u001b[0;34m.\u001b[0m\u001b[0m_call\u001b[0m\u001b[0;34m(\u001b[0m\u001b[0;34m*\u001b[0m\u001b[0margs\u001b[0m\u001b[0;34m,\u001b[0m \u001b[0;34m**\u001b[0m\u001b[0mkwds\u001b[0m\u001b[0;34m)\u001b[0m\u001b[0;34m\u001b[0m\u001b[0;34m\u001b[0m\u001b[0m\n\u001b[0m\u001b[1;32m    911\u001b[0m \u001b[0;34m\u001b[0m\u001b[0m\n\u001b[1;32m    912\u001b[0m       \u001b[0mnew_tracing_count\u001b[0m \u001b[0;34m=\u001b[0m \u001b[0mself\u001b[0m\u001b[0;34m.\u001b[0m\u001b[0mexperimental_get_tracing_count\u001b[0m\u001b[0;34m(\u001b[0m\u001b[0;34m)\u001b[0m\u001b[0;34m\u001b[0m\u001b[0;34m\u001b[0m\u001b[0m\n",
            "\u001b[0;32m/usr/local/lib/python3.7/dist-packages/tensorflow/python/eager/def_function.py\u001b[0m in \u001b[0;36m_call\u001b[0;34m(self, *args, **kwds)\u001b[0m\n\u001b[1;32m    940\u001b[0m       \u001b[0;31m# In this case we have created variables on the first call, so we run the\u001b[0m\u001b[0;34m\u001b[0m\u001b[0;34m\u001b[0m\u001b[0;34m\u001b[0m\u001b[0m\n\u001b[1;32m    941\u001b[0m       \u001b[0;31m# defunned version which is guaranteed to never create variables.\u001b[0m\u001b[0;34m\u001b[0m\u001b[0;34m\u001b[0m\u001b[0;34m\u001b[0m\u001b[0m\n\u001b[0;32m--> 942\u001b[0;31m       \u001b[0;32mreturn\u001b[0m \u001b[0mself\u001b[0m\u001b[0;34m.\u001b[0m\u001b[0m_stateless_fn\u001b[0m\u001b[0;34m(\u001b[0m\u001b[0;34m*\u001b[0m\u001b[0margs\u001b[0m\u001b[0;34m,\u001b[0m \u001b[0;34m**\u001b[0m\u001b[0mkwds\u001b[0m\u001b[0;34m)\u001b[0m  \u001b[0;31m# pylint: disable=not-callable\u001b[0m\u001b[0;34m\u001b[0m\u001b[0;34m\u001b[0m\u001b[0m\n\u001b[0m\u001b[1;32m    943\u001b[0m     \u001b[0;32melif\u001b[0m \u001b[0mself\u001b[0m\u001b[0;34m.\u001b[0m\u001b[0m_stateful_fn\u001b[0m \u001b[0;32mis\u001b[0m \u001b[0;32mnot\u001b[0m \u001b[0;32mNone\u001b[0m\u001b[0;34m:\u001b[0m\u001b[0;34m\u001b[0m\u001b[0;34m\u001b[0m\u001b[0m\n\u001b[1;32m    944\u001b[0m       \u001b[0;31m# Release the lock early so that multiple threads can perform the call\u001b[0m\u001b[0;34m\u001b[0m\u001b[0;34m\u001b[0m\u001b[0;34m\u001b[0m\u001b[0m\n",
            "\u001b[0;32m/usr/local/lib/python3.7/dist-packages/tensorflow/python/eager/function.py\u001b[0m in \u001b[0;36m__call__\u001b[0;34m(self, *args, **kwargs)\u001b[0m\n\u001b[1;32m   3129\u001b[0m        filtered_flat_args) = self._maybe_define_function(args, kwargs)\n\u001b[1;32m   3130\u001b[0m     return graph_function._call_flat(\n\u001b[0;32m-> 3131\u001b[0;31m         filtered_flat_args, captured_inputs=graph_function.captured_inputs)  # pylint: disable=protected-access\n\u001b[0m\u001b[1;32m   3132\u001b[0m \u001b[0;34m\u001b[0m\u001b[0m\n\u001b[1;32m   3133\u001b[0m   \u001b[0;34m@\u001b[0m\u001b[0mproperty\u001b[0m\u001b[0;34m\u001b[0m\u001b[0;34m\u001b[0m\u001b[0m\n",
            "\u001b[0;32m/usr/local/lib/python3.7/dist-packages/tensorflow/python/eager/function.py\u001b[0m in \u001b[0;36m_call_flat\u001b[0;34m(self, args, captured_inputs, cancellation_manager)\u001b[0m\n\u001b[1;32m   1958\u001b[0m       \u001b[0;31m# No tape is watching; skip to running the function.\u001b[0m\u001b[0;34m\u001b[0m\u001b[0;34m\u001b[0m\u001b[0;34m\u001b[0m\u001b[0m\n\u001b[1;32m   1959\u001b[0m       return self._build_call_outputs(self._inference_function.call(\n\u001b[0;32m-> 1960\u001b[0;31m           ctx, args, cancellation_manager=cancellation_manager))\n\u001b[0m\u001b[1;32m   1961\u001b[0m     forward_backward = self._select_forward_and_backward_functions(\n\u001b[1;32m   1962\u001b[0m         \u001b[0margs\u001b[0m\u001b[0;34m,\u001b[0m\u001b[0;34m\u001b[0m\u001b[0;34m\u001b[0m\u001b[0m\n",
            "\u001b[0;32m/usr/local/lib/python3.7/dist-packages/tensorflow/python/eager/function.py\u001b[0m in \u001b[0;36mcall\u001b[0;34m(self, ctx, args, cancellation_manager)\u001b[0m\n\u001b[1;32m    601\u001b[0m               \u001b[0minputs\u001b[0m\u001b[0;34m=\u001b[0m\u001b[0margs\u001b[0m\u001b[0;34m,\u001b[0m\u001b[0;34m\u001b[0m\u001b[0;34m\u001b[0m\u001b[0m\n\u001b[1;32m    602\u001b[0m               \u001b[0mattrs\u001b[0m\u001b[0;34m=\u001b[0m\u001b[0mattrs\u001b[0m\u001b[0;34m,\u001b[0m\u001b[0;34m\u001b[0m\u001b[0;34m\u001b[0m\u001b[0m\n\u001b[0;32m--> 603\u001b[0;31m               ctx=ctx)\n\u001b[0m\u001b[1;32m    604\u001b[0m         \u001b[0;32melse\u001b[0m\u001b[0;34m:\u001b[0m\u001b[0;34m\u001b[0m\u001b[0;34m\u001b[0m\u001b[0m\n\u001b[1;32m    605\u001b[0m           outputs = execute.execute_with_cancellation(\n",
            "\u001b[0;32m/usr/local/lib/python3.7/dist-packages/tensorflow/python/eager/execute.py\u001b[0m in \u001b[0;36mquick_execute\u001b[0;34m(op_name, num_outputs, inputs, attrs, ctx, name)\u001b[0m\n\u001b[1;32m     57\u001b[0m     \u001b[0mctx\u001b[0m\u001b[0;34m.\u001b[0m\u001b[0mensure_initialized\u001b[0m\u001b[0;34m(\u001b[0m\u001b[0;34m)\u001b[0m\u001b[0;34m\u001b[0m\u001b[0;34m\u001b[0m\u001b[0m\n\u001b[1;32m     58\u001b[0m     tensors = pywrap_tfe.TFE_Py_Execute(ctx._handle, device_name, op_name,\n\u001b[0;32m---> 59\u001b[0;31m                                         inputs, attrs, num_outputs)\n\u001b[0m\u001b[1;32m     60\u001b[0m   \u001b[0;32mexcept\u001b[0m \u001b[0mcore\u001b[0m\u001b[0;34m.\u001b[0m\u001b[0m_NotOkStatusException\u001b[0m \u001b[0;32mas\u001b[0m \u001b[0me\u001b[0m\u001b[0;34m:\u001b[0m\u001b[0;34m\u001b[0m\u001b[0;34m\u001b[0m\u001b[0m\n\u001b[1;32m     61\u001b[0m     \u001b[0;32mif\u001b[0m \u001b[0mname\u001b[0m \u001b[0;32mis\u001b[0m \u001b[0;32mnot\u001b[0m \u001b[0;32mNone\u001b[0m\u001b[0;34m:\u001b[0m\u001b[0;34m\u001b[0m\u001b[0;34m\u001b[0m\u001b[0m\n",
            "\u001b[0;31mKeyboardInterrupt\u001b[0m: "
          ]
        }
      ]
    },
    {
      "cell_type": "code",
      "source": [
        "acc += model_history_fine.history['f1_score']\n",
        "val_acc += model_history_fine.history['val_f1_score']\n",
        "\n",
        "loss += model_history_fine.history['loss']\n",
        "val_loss += model_history_fine.history['val_loss']\n",
        "\n",
        "plt.figure(figsize=(8, 8))\n",
        "plt.subplot(2, 1, 1)\n",
        "plt.plot(acc, label='Training Accuracy')\n",
        "plt.plot(val_acc, label='Validation Accuracy')\n",
        "plt.legend(loc='upper right')\n",
        "plt.ylabel('Accuracy')\n",
        "plt.ylim([min(plt.ylim()),1])\n",
        "plt.title('Training and Validation Accuracy')\n",
        "\n",
        "plt.subplot(2, 1, 2)\n",
        "plt.plot(loss, label='Training Loss')\n",
        "plt.plot(val_loss, label='Validation Loss')\n",
        "plt.legend(loc='lower right')\n",
        "plt.ylabel('Cross Entropy')\n",
        "plt.ylim([0,3.0])\n",
        "plt.title('Training and Validation Loss')\n",
        "plt.xlabel('epoch')\n",
        "plt.show()"
      ],
      "metadata": {
        "id": "j14OB3RrRh2X"
      },
      "execution_count": null,
      "outputs": []
    },
    {
      "cell_type": "markdown",
      "source": [
        "#Improove performances"
      ],
      "metadata": {
        "id": "K6RqT1S6z2FB"
      }
    },
    {
      "cell_type": "code",
      "source": [
        "from  tensorflow.keras.applications import InceptionV3"
      ],
      "metadata": {
        "id": "WVgrwnCHAuwP"
      },
      "execution_count": null,
      "outputs": []
    },
    {
      "cell_type": "code",
      "source": [
        "#initialise base model\n",
        "IMG_SHAPE = (124, 124, 3)\n",
        "\n",
        "base_model=  InceptionV3(\n",
        "    weights='imagenet',\n",
        "    input_shape= IMG_SHAPE,\n",
        "    include_top=False)"
      ],
      "metadata": {
        "id": "Of8appWxA3-v"
      },
      "execution_count": null,
      "outputs": []
    },
    {
      "cell_type": "code",
      "source": [
        "base_model.trainable = True\n",
        "model = tf.keras.Sequential()\n",
        "model.add(base_model)\n",
        "model.add(tf.keras.layers.GlobalAveragePooling2D())\n",
        "model.add(Flatten())\n",
        "#model.add(tf.keras.layers.Dense(320, activation='relu',kernel_regularizer=keras.regularizers.l1(0.001)))\n",
        "#model.add(tf.keras.layers.Dropout(0.2))\n",
        "model.add(tf.keras.layers.Dense(12,activation='sigmoid',kernel_regularizer=keras.regularizers.l1(0.001)))\n",
        "\n",
        "model.summary()"
      ],
      "metadata": {
        "id": "ig8Wo2VVA5Lt"
      },
      "execution_count": null,
      "outputs": []
    },
    {
      "cell_type": "code",
      "source": [
        "fine_tune_at = 200\n",
        "\n",
        "# Freeze all the layers before the 'fine_tune_at' layer\n",
        "for layer in base_model.layers[:fine_tune_at]:\n",
        "  layer.trainable =  False"
      ],
      "metadata": {
        "id": "xQ3EvYlABBdA"
      },
      "execution_count": null,
      "outputs": []
    },
    {
      "cell_type": "code",
      "source": [
        "file_path= '/content/drive/MyDrive/ P8_kaggle_competition/Best_model_changed.h5'\n",
        "\n",
        "checkpoint=ModelCheckpoint(file_path,\n",
        "                          monitor=\"val_f1_score\",\n",
        "                          mode='max',\n",
        "                          save_best_only=True,\n",
        "                          verbose=1)\n",
        "earlystop=EarlyStopping(monitor=\"loss\",mode='max',\n",
        "                       patience=10,\n",
        "                       verbose=1,\n",
        "                       restore_best_weights=True)\n",
        "\n",
        "callbacks=[checkpoint,earlystop]"
      ],
      "metadata": {
        "id": "PI6ILR0Mz0HN"
      },
      "execution_count": null,
      "outputs": []
    },
    {
      "cell_type": "code",
      "source": [
        "# Compile the Model\n",
        "model.compile(optimizer=tf.keras.optimizers.SGD(learning_rate=0.0001),\n",
        "    loss='categorical_crossentropy',\n",
        "    metrics = [tfa.metrics.F1Score(num_classes = 12,average = \"macro\",name = \"f1_score\")])"
      ],
      "metadata": {
        "id": "UzkrK5JB0a5_"
      },
      "execution_count": null,
      "outputs": []
    },
    {
      "cell_type": "code",
      "source": [
        "#drop_out=0.5\n",
        "t0 = time()\n",
        "\n",
        "epochs = 40\n",
        "\n",
        "model_history= model.fit(train_ds,validation_data=val_ds,\n",
        "                         steps_per_epoch=train_ds.samples//128,\n",
        "                                 validation_steps=val_ds.samples//128,\n",
        "                                 epochs= epochs,\n",
        "                                 callbacks=callbacks)\n",
        "\n",
        "\n",
        "print(\"Done in %0.3fs.\" % (time() - t0))"
      ],
      "metadata": {
        "id": "4KMsUbYWBjLK"
      },
      "execution_count": null,
      "outputs": []
    },
    {
      "cell_type": "code",
      "source": [
        "acc = model_history.history['f1_score']\n",
        "val_acc = model_history.history['val_f1_score']\n",
        "\n",
        "loss = model_history.history['loss']\n",
        "val_loss = model_history.history['val_loss']\n",
        "\n",
        "plt.figure(figsize=(8, 8))\n",
        "plt.subplot(2, 1, 1)\n",
        "plt.plot(acc, label='Training Accuracy')\n",
        "plt.plot(val_acc, label='Validation Accuracy')\n",
        "plt.legend(loc='upper right')\n",
        "plt.ylabel('Accuracy')\n",
        "plt.ylim([min(plt.ylim()),1])\n",
        "plt.title('Training and Validation Accuracy')\n",
        "\n",
        "plt.subplot(2, 1, 2)\n",
        "plt.plot(loss, label='Training Loss')\n",
        "plt.plot(val_loss, label='Validation Loss')\n",
        "plt.legend(loc='lower right')\n",
        "plt.ylabel('Cross Entropy')\n",
        "plt.ylim([0,2.0])\n",
        "plt.title('Training and Validation Loss')\n",
        "plt.xlabel('epoch')\n",
        "plt.show()"
      ],
      "metadata": {
        "id": "0FsEVtvSoRp_"
      },
      "execution_count": null,
      "outputs": []
    },
    {
      "cell_type": "code",
      "source": [
        "#No drop out\n",
        "t0 = time()\n",
        "\n",
        "epochs = 40\n",
        "\n",
        "model_history= model.fit(train_ds,validation_data=val_ds,\n",
        "                         steps_per_epoch=train_ds.samples//128,\n",
        "                                 validation_steps=val_ds.samples//128,\n",
        "                                 epochs= epochs,\n",
        "                                 callbacks=callbacks)\n",
        "\n",
        "\n",
        "print(\"Done in %0.3fs.\" % (time() - t0))"
      ],
      "metadata": {
        "id": "Kl2EV3Xfpwqd"
      },
      "execution_count": null,
      "outputs": []
    },
    {
      "cell_type": "code",
      "source": [
        "acc = model_history.history['f1_score']\n",
        "val_acc = model_history.history['val_f1_score']\n",
        "\n",
        "loss = model_history.history['loss']\n",
        "val_loss = model_history.history['val_loss']\n",
        "\n",
        "plt.figure(figsize=(8, 8))\n",
        "plt.subplot(2, 1, 1)\n",
        "plt.plot(acc, label='Training Accuracy')\n",
        "plt.plot(val_acc, label='Validation Accuracy')\n",
        "plt.legend(loc='upper right')\n",
        "plt.ylabel('Accuracy')\n",
        "plt.ylim([min(plt.ylim()),1])\n",
        "plt.title('Training and Validation Accuracy')\n",
        "\n",
        "plt.subplot(2, 1, 2)\n",
        "plt.plot(loss, label='Training Loss')\n",
        "plt.plot(val_loss, label='Validation Loss')\n",
        "plt.legend(loc='lower right')\n",
        "plt.ylabel('Cross Entropy')\n",
        "plt.ylim([0,2.0])\n",
        "plt.title('Training and Validation Loss')\n",
        "plt.xlabel('epoch')\n",
        "plt.show()"
      ],
      "metadata": {
        "id": "cjSJ_DkNp2mY"
      },
      "execution_count": null,
      "outputs": []
    },
    {
      "cell_type": "code",
      "source": [
        "#No dense layer no dropout with flaten\n",
        "t0 = time()\n",
        "\n",
        "epochs = 40\n",
        "\n",
        "model_history= model.fit(train_ds,validation_data=val_ds,\n",
        "                         steps_per_epoch=train_ds.samples//128,\n",
        "                                 validation_steps=val_ds.samples//128,\n",
        "                                 epochs= epochs,\n",
        "                                 callbacks=callbacks)\n",
        "\n",
        "\n",
        "print(\"Done in %0.3fs.\" % (time() - t0))"
      ],
      "metadata": {
        "id": "ECXOAUqA3woS"
      },
      "execution_count": null,
      "outputs": []
    },
    {
      "cell_type": "code",
      "source": [
        "acc = model_history.history['f1_score']\n",
        "val_acc = model_history.history['val_f1_score']\n",
        "\n",
        "loss = model_history.history['loss']\n",
        "val_loss = model_history.history['val_loss']\n",
        "\n",
        "plt.figure(figsize=(8, 8))\n",
        "plt.subplot(2, 1, 1)\n",
        "plt.plot(acc, label='Training Accuracy')\n",
        "plt.plot(val_acc, label='Validation Accuracy')\n",
        "plt.legend(loc='upper right')\n",
        "plt.ylabel('Accuracy')\n",
        "plt.ylim([min(plt.ylim()),1])\n",
        "plt.title('Training and Validation Accuracy')\n",
        "\n",
        "plt.subplot(2, 1, 2)\n",
        "plt.plot(loss, label='Training Loss')\n",
        "plt.plot(val_loss, label='Validation Loss')\n",
        "plt.legend(loc='lower right')\n",
        "plt.ylabel('Cross Entropy')\n",
        "plt.ylim([0,2.0])\n",
        "plt.title('Training and Validation Loss')\n",
        "plt.xlabel('epoch')\n",
        "plt.show()"
      ],
      "metadata": {
        "id": "KVQb6A1q4DyK"
      },
      "execution_count": null,
      "outputs": []
    },
    {
      "cell_type": "code",
      "source": [
        "t0 = time()\n",
        "\n",
        "epochs = 40\n",
        "\n",
        "model_history= model.fit(train_ds,validation_data=val_ds,\n",
        "                         steps_per_epoch=train_ds.samples//128,\n",
        "                                 validation_steps=val_ds.samples//128,\n",
        "                                 epochs= epochs,\n",
        "                                 callbacks=callbacks)\n",
        "\n",
        "\n",
        "print(\"Done in %0.3fs.\" % (time() - t0))"
      ],
      "metadata": {
        "id": "bwZczqORkx6d"
      },
      "execution_count": null,
      "outputs": []
    },
    {
      "cell_type": "code",
      "source": [
        "acc = model_history.history['f1_score']\n",
        "val_acc = model_history.history['val_f1_score']\n",
        "\n",
        "loss = model_history.history['loss']\n",
        "val_loss = model_history.history['val_loss']\n",
        "\n",
        "plt.figure(figsize=(8, 8))\n",
        "plt.subplot(2, 1, 1)\n",
        "plt.plot(acc, label='Training Accuracy')\n",
        "plt.plot(val_acc, label='Validation Accuracy')\n",
        "plt.legend(loc='upper right')\n",
        "plt.ylabel('Accuracy')\n",
        "plt.ylim([min(plt.ylim()),1])\n",
        "plt.title('Training and Validation Accuracy')\n",
        "\n",
        "plt.subplot(2, 1, 2)\n",
        "plt.plot(loss, label='Training Loss')\n",
        "plt.plot(val_loss, label='Validation Loss')\n",
        "plt.legend(loc='lower right')\n",
        "plt.ylabel('Cross Entropy')\n",
        "plt.ylim([0,2.0])\n",
        "plt.title('Training and Validation Loss')\n",
        "plt.xlabel('epoch')\n",
        "plt.show()"
      ],
      "metadata": {
        "id": "4EARLsKpkzk5"
      },
      "execution_count": null,
      "outputs": []
    },
    {
      "cell_type": "code",
      "source": [
        "t0 = time()\n",
        "\n",
        "epochs = 40\n",
        "\n",
        "model_history= model.fit(train_ds,validation_data=val_ds,\n",
        "                         steps_per_epoch=train_ds.samples//128,\n",
        "                                 validation_steps=val_ds.samples//128,\n",
        "                                 epochs= epochs,\n",
        "                                 callbacks=callbacks)\n",
        "\n",
        "\n",
        "print(\"Done in %0.3fs.\" % (time() - t0))"
      ],
      "metadata": {
        "id": "3ehpL2VHRWyq"
      },
      "execution_count": null,
      "outputs": []
    },
    {
      "cell_type": "code",
      "source": [
        "acc = model_history.history['f1_score']\n",
        "val_acc = model_history.history['val_f1_score']\n",
        "\n",
        "loss = model_history.history['loss']\n",
        "val_loss = model_history.history['val_loss']\n",
        "\n",
        "plt.figure(figsize=(8, 8))\n",
        "plt.subplot(2, 1, 1)\n",
        "plt.plot(acc, label='Training Accuracy')\n",
        "plt.plot(val_acc, label='Validation Accuracy')\n",
        "plt.legend(loc='upper right')\n",
        "plt.ylabel('Accuracy')\n",
        "plt.ylim([min(plt.ylim()),1])\n",
        "plt.title('Training and Validation Accuracy')\n",
        "\n",
        "plt.subplot(2, 1, 2)\n",
        "plt.plot(loss, label='Training Loss')\n",
        "plt.plot(val_loss, label='Validation Loss')\n",
        "plt.legend(loc='lower right')\n",
        "plt.ylabel('Cross Entropy')\n",
        "plt.ylim([0,2.0])\n",
        "plt.title('Training and Validation Loss')\n",
        "plt.xlabel('epoch')\n",
        "plt.show()"
      ],
      "metadata": {
        "id": "TnMi29saRcp7"
      },
      "execution_count": null,
      "outputs": []
    },
    {
      "cell_type": "code",
      "source": [
        "t0 = time()\n",
        "\n",
        "epochs = 40\n",
        "\n",
        "model_history= model.fit(train_ds,validation_data=val_ds,\n",
        "                         steps_per_epoch=train_ds.samples//128,\n",
        "                                 validation_steps=val_ds.samples//128,\n",
        "                                 epochs= epochs,\n",
        "                                 callbacks=callbacks)\n",
        "\n",
        "\n",
        "print(\"Done in %0.3fs.\" % (time() - t0))"
      ],
      "metadata": {
        "id": "dXlsvSuwxgVr"
      },
      "execution_count": null,
      "outputs": []
    },
    {
      "cell_type": "code",
      "source": [
        "acc = model_history.history['f1_score']\n",
        "val_acc = model_history.history['val_f1_score']\n",
        "\n",
        "loss = model_history.history['loss']\n",
        "val_loss = model_history.history['val_loss']\n",
        "\n",
        "plt.figure(figsize=(8, 8))\n",
        "plt.subplot(2, 1, 1)\n",
        "plt.plot(acc, label='Training Accuracy')\n",
        "plt.plot(val_acc, label='Validation Accuracy')\n",
        "plt.legend(loc='upper right')\n",
        "plt.ylabel('Accuracy')\n",
        "plt.ylim([min(plt.ylim()),1])\n",
        "plt.title('Training and Validation Accuracy')\n",
        "\n",
        "plt.subplot(2, 1, 2)\n",
        "plt.plot(loss, label='Training Loss')\n",
        "plt.plot(val_loss, label='Validation Loss')\n",
        "plt.legend(loc='lower right')\n",
        "plt.ylabel('Cross Entropy')\n",
        "plt.ylim([0,2.0])\n",
        "plt.title('Training and Validation Loss')\n",
        "plt.xlabel('epoch')\n",
        "plt.show()"
      ],
      "metadata": {
        "id": "3uAwrQuNxllN"
      },
      "execution_count": null,
      "outputs": []
    },
    {
      "cell_type": "code",
      "source": [
        "train_ds.samples//256"
      ],
      "metadata": {
        "id": "7ObW3eOFmnXK"
      },
      "execution_count": null,
      "outputs": []
    },
    {
      "cell_type": "markdown",
      "source": [
        "#Evaluation performance"
      ],
      "metadata": {
        "id": "9EzWr9k93B6T"
      }
    },
    {
      "cell_type": "markdown",
      "source": [
        "##CNN from scratch"
      ],
      "metadata": {
        "id": "55vgRmxY3IGl"
      }
    },
    {
      "cell_type": "code",
      "source": [
        "model.load_weights(\"/content/drive/MyDrive/ P8_kaggle_competition/best_model_cnn.h5\")\n",
        "loss, accuracy = model.evaluate(val_ds)\n",
        "print('Valid accuracy :', round(accuracy, 3))\n",
        "print('Valid loss :', round(loss, 3))"
      ],
      "metadata": {
        "id": "RVl6Sr4P3DzH"
      },
      "execution_count": null,
      "outputs": []
    },
    {
      "cell_type": "markdown",
      "source": [
        "##InceptionV3"
      ],
      "metadata": {
        "id": "4vste0cJ3ky2"
      }
    },
    {
      "cell_type": "code",
      "source": [
        "model.load_weights(\"/content/drive/MyDrive/ P8_kaggle_competition/Best_model_inceptionV3.h5\")\n",
        "loss, accuracy = model.evaluate(val_ds)\n",
        "print('Valid accuracy :', round(accuracy, 3))\n",
        "print('Valid loss :', round(loss, 3))"
      ],
      "metadata": {
        "id": "WCNVjH8U3pqP"
      },
      "execution_count": null,
      "outputs": []
    },
    {
      "cell_type": "markdown",
      "source": [
        "##MobileNetV2"
      ],
      "metadata": {
        "id": "iZIvN1Qx3uEC"
      }
    },
    {
      "cell_type": "code",
      "source": [
        "model.load_weights(\"/content/drive/MyDrive/ P8_kaggle_competition/Best_model_mobilenetV2.h5\")\n",
        "loss, accuracy = model.evaluate(val_ds)\n",
        "print('Valid accuracy :', round(accuracy, 3))\n",
        "print('Valid loss :', round(loss, 3))"
      ],
      "metadata": {
        "id": "y8QQKgoZ3yCG"
      },
      "execution_count": null,
      "outputs": []
    },
    {
      "cell_type": "markdown",
      "source": [
        "#SUBMISSION OF FILE"
      ],
      "metadata": {
        "id": "CbCkUdtX5JwP"
      }
    },
    {
      "cell_type": "code",
      "source": [
        "submission = pd.read_csv('/content/drive/MyDrive/ P8_kaggle_competition/sample_submission.csv')\n",
        "submission.head()"
      ],
      "metadata": {
        "id": "U5vK_4TQ5LJX"
      },
      "execution_count": null,
      "outputs": []
    },
    {
      "cell_type": "code",
      "source": [
        "test_datagen = ImageDataGenerator(\n",
        "    rescale = 1./255\n",
        ")\n",
        "INPUT_SIZE = (124,124,3)\n",
        "test_generator =  test_datagen.flow_from_dataframe(\n",
        "    submission,\n",
        "    directory=\"/content/drive/MyDrive/ P8_kaggle_competition/test_images\",\n",
        "    x_col='image',\n",
        "    y_col=None,\n",
        "    class_mode=None,\n",
        "    target_size=INPUT_SIZE[:2]\n",
        ") "
      ],
      "metadata": {
        "id": "bhXlG2Nz5YLl"
      },
      "execution_count": null,
      "outputs": []
    },
    {
      "cell_type": "code",
      "source": [
        "preds = model.predict(test_generator)\n",
        "print(preds)"
      ],
      "metadata": {
        "id": "RPmT-dA46Dl_"
      },
      "execution_count": null,
      "outputs": []
    },
    {
      "cell_type": "code",
      "source": [
        "train_ds.class_indices"
      ],
      "metadata": {
        "id": "nI06IpFa_dNh"
      },
      "execution_count": null,
      "outputs": []
    },
    {
      "cell_type": "code",
      "source": [
        "def get_key(val):\n",
        "    for key, value in train_ds.class_indices.items():\n",
        "        if val == value:\n",
        "            return key"
      ],
      "metadata": {
        "id": "1OtvYGSV80Aa"
      },
      "execution_count": null,
      "outputs": []
    },
    {
      "cell_type": "code",
      "source": [
        "def get_preds_to_labels(preds):\n",
        "    pred_lists = []\n",
        "    for pred in preds:\n",
        "        pred_list = []\n",
        "        health = (pred>=0.4)\n",
        "        \n",
        "        # get healthy\n",
        "        if health.sum()==0:\n",
        "            label = 'healthy'\n",
        "            pred_list.append(label)\n",
        "            \n",
        "        elif pred[2]>=0.5:\n",
        "            label = 'healthy'\n",
        "            pred_list.append(label)\n",
        "            \n",
        "        # get eles label\n",
        "        else:\n",
        "            for j, sub in enumerate(pred):\n",
        "                if sub>=0.28:\n",
        "                    label = get_key(j)\n",
        "                    pred_list.append(label)\n",
        "                               \n",
        "        pred_lists.append(' '.join(pred_list))\n",
        "    return pred_lists"
      ],
      "metadata": {
        "id": "pLfs5pEc6KBO"
      },
      "execution_count": null,
      "outputs": []
    },
    {
      "cell_type": "code",
      "source": [
        "preds_list = get_preds_to_labels(preds)"
      ],
      "metadata": {
        "id": "BOSwgTBq8-hs"
      },
      "execution_count": null,
      "outputs": []
    },
    {
      "cell_type": "code",
      "source": [
        "#submission['labels'] = preds_list\n",
        "submission.head()"
      ],
      "metadata": {
        "id": "nTtA1Rz29BoL"
      },
      "execution_count": null,
      "outputs": []
    },
    {
      "cell_type": "code",
      "source": [
        "submission.to_csv('/content/drive/MyDrive/ P8_kaggle_competition/submission.csv', index=False)"
      ],
      "metadata": {
        "id": "5QZVcV_L9K4c"
      },
      "execution_count": null,
      "outputs": []
    }
  ],
  "metadata": {
    "accelerator": "GPU",
    "colab": {
      "name": "Copy of P8_01_documentation.ipynb",
      "provenance": [],
      "collapsed_sections": [],
      "toc_visible": true,
      "mount_file_id": "1FNNrmVQ8bRKDijn7LYCTUpsw5RgQnSFG",
      "authorship_tag": "ABX9TyNzvkV3x14MN6ffAkQqV8pD",
      "include_colab_link": true
    },
    "kernelspec": {
      "display_name": "Python 3",
      "name": "python3"
    },
    "language_info": {
      "name": "python"
    }
  },
  "nbformat": 4,
  "nbformat_minor": 0
}